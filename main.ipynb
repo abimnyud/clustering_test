{
 "cells": [
  {
   "attachments": {},
   "cell_type": "markdown",
   "metadata": {},
   "source": [
    "Data Mining dan Data Warehouse (D)</br>\n",
    "**ABIMANYU DAMARJATI**</br>\n",
    "**2110511110**"
   ]
  },
  {
   "cell_type": "code",
   "execution_count": 1,
   "metadata": {},
   "outputs": [],
   "source": [
    "import pandas as pd\n",
    "import matplotlib.pyplot as plt\n",
    "import numpy as np\n",
    "import seaborn as sns\n",
    "from sklearn.cluster import KMeans\n",
    "from sklearn.preprocessing import MinMaxScaler\n",
    "import plotly.express as px\n",
    "import plotly.graph_objects as go\n",
    "from sklearn.preprocessing import StandardScaler\n",
    "from kneed import KneeLocator\n",
    "import tracemalloc\n",
    "import time"
   ]
  },
  {
   "cell_type": "code",
   "execution_count": 2,
   "metadata": {},
   "outputs": [
    {
     "data": {
      "text/html": [
       "<div>\n",
       "<style scoped>\n",
       "    .dataframe tbody tr th:only-of-type {\n",
       "        vertical-align: middle;\n",
       "    }\n",
       "\n",
       "    .dataframe tbody tr th {\n",
       "        vertical-align: top;\n",
       "    }\n",
       "\n",
       "    .dataframe thead th {\n",
       "        text-align: right;\n",
       "    }\n",
       "</style>\n",
       "<table border=\"1\" class=\"dataframe\">\n",
       "  <thead>\n",
       "    <tr style=\"text-align: right;\">\n",
       "      <th></th>\n",
       "      <th>tanggal</th>\n",
       "      <th>id_kel</th>\n",
       "      <th>nama_provinsi</th>\n",
       "      <th>nama_kota</th>\n",
       "      <th>nama_kecamatan</th>\n",
       "      <th>nama_kelurahan</th>\n",
       "      <th>kategori</th>\n",
       "      <th>sub_kategori</th>\n",
       "      <th>jumlah</th>\n",
       "    </tr>\n",
       "  </thead>\n",
       "  <tbody>\n",
       "    <tr>\n",
       "      <th>0</th>\n",
       "      <td>2021-11-06</td>\n",
       "      <td>3172051003</td>\n",
       "      <td>DKI JAKARTA</td>\n",
       "      <td>JAKARTA UTARA</td>\n",
       "      <td>PADEMANGAN</td>\n",
       "      <td>ANCOL</td>\n",
       "      <td>SUSPEK</td>\n",
       "      <td>Perawatan RS</td>\n",
       "      <td>0</td>\n",
       "    </tr>\n",
       "    <tr>\n",
       "      <th>1</th>\n",
       "      <td>2021-11-06</td>\n",
       "      <td>3173041007</td>\n",
       "      <td>DKI JAKARTA</td>\n",
       "      <td>JAKARTA BARAT</td>\n",
       "      <td>TAMBORA</td>\n",
       "      <td>ANGKE</td>\n",
       "      <td>SUSPEK</td>\n",
       "      <td>Perawatan RS</td>\n",
       "      <td>0</td>\n",
       "    </tr>\n",
       "    <tr>\n",
       "      <th>2</th>\n",
       "      <td>2021-11-06</td>\n",
       "      <td>3175041005</td>\n",
       "      <td>DKI JAKARTA</td>\n",
       "      <td>JAKARTA TIMUR</td>\n",
       "      <td>KRAMAT JATI</td>\n",
       "      <td>BALE KAMBANG</td>\n",
       "      <td>SUSPEK</td>\n",
       "      <td>Perawatan RS</td>\n",
       "      <td>0</td>\n",
       "    </tr>\n",
       "    <tr>\n",
       "      <th>3</th>\n",
       "      <td>2021-11-06</td>\n",
       "      <td>3175031003</td>\n",
       "      <td>DKI JAKARTA</td>\n",
       "      <td>JAKARTA TIMUR</td>\n",
       "      <td>JATINEGARA</td>\n",
       "      <td>BALI MESTER</td>\n",
       "      <td>SUSPEK</td>\n",
       "      <td>Perawatan RS</td>\n",
       "      <td>0</td>\n",
       "    </tr>\n",
       "    <tr>\n",
       "      <th>4</th>\n",
       "      <td>2021-11-06</td>\n",
       "      <td>3175101006</td>\n",
       "      <td>DKI JAKARTA</td>\n",
       "      <td>JAKARTA TIMUR</td>\n",
       "      <td>CIPAYUNG</td>\n",
       "      <td>BAMBU APUS</td>\n",
       "      <td>SUSPEK</td>\n",
       "      <td>Perawatan RS</td>\n",
       "      <td>0</td>\n",
       "    </tr>\n",
       "  </tbody>\n",
       "</table>\n",
       "</div>"
      ],
      "text/plain": [
       "      tanggal      id_kel nama_provinsi      nama_kota nama_kecamatan  \\\n",
       "0  2021-11-06  3172051003   DKI JAKARTA  JAKARTA UTARA     PADEMANGAN   \n",
       "1  2021-11-06  3173041007   DKI JAKARTA  JAKARTA BARAT        TAMBORA   \n",
       "2  2021-11-06  3175041005   DKI JAKARTA  JAKARTA TIMUR    KRAMAT JATI   \n",
       "3  2021-11-06  3175031003   DKI JAKARTA  JAKARTA TIMUR     JATINEGARA   \n",
       "4  2021-11-06  3175101006   DKI JAKARTA  JAKARTA TIMUR       CIPAYUNG   \n",
       "\n",
       "  nama_kelurahan kategori  sub_kategori  jumlah  \n",
       "0          ANCOL   SUSPEK  Perawatan RS       0  \n",
       "1          ANGKE   SUSPEK  Perawatan RS       0  \n",
       "2   BALE KAMBANG   SUSPEK  Perawatan RS       0  \n",
       "3    BALI MESTER   SUSPEK  Perawatan RS       0  \n",
       "4     BAMBU APUS   SUSPEK  Perawatan RS       0  "
      ]
     },
     "execution_count": 2,
     "metadata": {},
     "output_type": "execute_result"
    }
   ],
   "source": [
    "data = pd.read_csv('./data/rekap-data-bulanan-covid-19-bulan-november-tahun-2021.csv')\n",
    "\n",
    "data.head()"
   ]
  },
  {
   "cell_type": "code",
   "execution_count": 3,
   "metadata": {},
   "outputs": [],
   "source": [
    "class Column:\n",
    "    tanggal = 'tanggal'\n",
    "    id_kelurahan = 'id_kel'\n",
    "    nama_provinsi = 'nama_provinsi'\n",
    "    nama_kota = 'nama_kota'\n",
    "    nama_kecamatan = 'nama_kecamatan'\n",
    "    nama_kelurahan = 'nama_kelurahan'\n",
    "    kategori = 'kategori'\n",
    "    sub_kategori = 'sub_kategori'\n",
    "    jumlah = 'jumlah'"
   ]
  },
  {
   "attachments": {},
   "cell_type": "markdown",
   "metadata": {},
   "source": [
    "Memilih kolom yang akan digunakan"
   ]
  },
  {
   "cell_type": "code",
   "execution_count": 4,
   "metadata": {},
   "outputs": [
    {
     "data": {
      "text/html": [
       "<div>\n",
       "<style scoped>\n",
       "    .dataframe tbody tr th:only-of-type {\n",
       "        vertical-align: middle;\n",
       "    }\n",
       "\n",
       "    .dataframe tbody tr th {\n",
       "        vertical-align: top;\n",
       "    }\n",
       "\n",
       "    .dataframe thead th {\n",
       "        text-align: right;\n",
       "    }\n",
       "</style>\n",
       "<table border=\"1\" class=\"dataframe\">\n",
       "  <thead>\n",
       "    <tr style=\"text-align: right;\">\n",
       "      <th></th>\n",
       "      <th>tanggal</th>\n",
       "      <th>nama_kelurahan</th>\n",
       "      <th>kategori</th>\n",
       "      <th>jumlah</th>\n",
       "    </tr>\n",
       "  </thead>\n",
       "  <tbody>\n",
       "    <tr>\n",
       "      <th>0</th>\n",
       "      <td>2021-11-06</td>\n",
       "      <td>ANCOL</td>\n",
       "      <td>SUSPEK</td>\n",
       "      <td>0</td>\n",
       "    </tr>\n",
       "    <tr>\n",
       "      <th>1</th>\n",
       "      <td>2021-11-06</td>\n",
       "      <td>ANGKE</td>\n",
       "      <td>SUSPEK</td>\n",
       "      <td>0</td>\n",
       "    </tr>\n",
       "    <tr>\n",
       "      <th>2</th>\n",
       "      <td>2021-11-06</td>\n",
       "      <td>BALE KAMBANG</td>\n",
       "      <td>SUSPEK</td>\n",
       "      <td>0</td>\n",
       "    </tr>\n",
       "    <tr>\n",
       "      <th>3</th>\n",
       "      <td>2021-11-06</td>\n",
       "      <td>BALI MESTER</td>\n",
       "      <td>SUSPEK</td>\n",
       "      <td>0</td>\n",
       "    </tr>\n",
       "    <tr>\n",
       "      <th>4</th>\n",
       "      <td>2021-11-06</td>\n",
       "      <td>BAMBU APUS</td>\n",
       "      <td>SUSPEK</td>\n",
       "      <td>0</td>\n",
       "    </tr>\n",
       "    <tr>\n",
       "      <th>...</th>\n",
       "      <td>...</td>\n",
       "      <td>...</td>\n",
       "      <td>...</td>\n",
       "      <td>...</td>\n",
       "    </tr>\n",
       "    <tr>\n",
       "      <th>22423</th>\n",
       "      <td>2021-11-27</td>\n",
       "      <td>UTAN KAYU SELATAN</td>\n",
       "      <td>POSITIF</td>\n",
       "      <td>0</td>\n",
       "    </tr>\n",
       "    <tr>\n",
       "      <th>22424</th>\n",
       "      <td>2021-11-27</td>\n",
       "      <td>UTAN KAYU UTARA</td>\n",
       "      <td>POSITIF</td>\n",
       "      <td>1</td>\n",
       "    </tr>\n",
       "    <tr>\n",
       "      <th>22425</th>\n",
       "      <td>2021-11-27</td>\n",
       "      <td>UTAN PANJANG</td>\n",
       "      <td>POSITIF</td>\n",
       "      <td>0</td>\n",
       "    </tr>\n",
       "    <tr>\n",
       "      <th>22426</th>\n",
       "      <td>2021-11-27</td>\n",
       "      <td>WARAKAS</td>\n",
       "      <td>POSITIF</td>\n",
       "      <td>0</td>\n",
       "    </tr>\n",
       "    <tr>\n",
       "      <th>22427</th>\n",
       "      <td>2021-11-27</td>\n",
       "      <td>WIJAYA KUSUMA</td>\n",
       "      <td>POSITIF</td>\n",
       "      <td>0</td>\n",
       "    </tr>\n",
       "  </tbody>\n",
       "</table>\n",
       "<p>22428 rows × 4 columns</p>\n",
       "</div>"
      ],
      "text/plain": [
       "          tanggal     nama_kelurahan kategori  jumlah\n",
       "0      2021-11-06              ANCOL   SUSPEK       0\n",
       "1      2021-11-06              ANGKE   SUSPEK       0\n",
       "2      2021-11-06       BALE KAMBANG   SUSPEK       0\n",
       "3      2021-11-06        BALI MESTER   SUSPEK       0\n",
       "4      2021-11-06         BAMBU APUS   SUSPEK       0\n",
       "...           ...                ...      ...     ...\n",
       "22423  2021-11-27  UTAN KAYU SELATAN  POSITIF       0\n",
       "22424  2021-11-27    UTAN KAYU UTARA  POSITIF       1\n",
       "22425  2021-11-27       UTAN PANJANG  POSITIF       0\n",
       "22426  2021-11-27            WARAKAS  POSITIF       0\n",
       "22427  2021-11-27      WIJAYA KUSUMA  POSITIF       0\n",
       "\n",
       "[22428 rows x 4 columns]"
      ]
     },
     "execution_count": 4,
     "metadata": {},
     "output_type": "execute_result"
    }
   ],
   "source": [
    "data = data[[\n",
    "    Column.tanggal,\n",
    "    Column.nama_kelurahan,\n",
    "    Column.kategori,\n",
    "    Column.jumlah,\n",
    "]]\n",
    "\n",
    "data"
   ]
  },
  {
   "attachments": {},
   "cell_type": "markdown",
   "metadata": {},
   "source": [
    "Menghapus jika ada data yang kosong"
   ]
  },
  {
   "cell_type": "code",
   "execution_count": 5,
   "metadata": {},
   "outputs": [],
   "source": [
    "data = data.dropna(axis=0, how=\"any\")"
   ]
  },
  {
   "attachments": {},
   "cell_type": "markdown",
   "metadata": {},
   "source": [
    "Mengubah format tanggal menjadi format datetime"
   ]
  },
  {
   "cell_type": "code",
   "execution_count": 6,
   "metadata": {},
   "outputs": [
    {
     "data": {
      "text/html": [
       "<div>\n",
       "<style scoped>\n",
       "    .dataframe tbody tr th:only-of-type {\n",
       "        vertical-align: middle;\n",
       "    }\n",
       "\n",
       "    .dataframe tbody tr th {\n",
       "        vertical-align: top;\n",
       "    }\n",
       "\n",
       "    .dataframe thead th {\n",
       "        text-align: right;\n",
       "    }\n",
       "</style>\n",
       "<table border=\"1\" class=\"dataframe\">\n",
       "  <thead>\n",
       "    <tr style=\"text-align: right;\">\n",
       "      <th></th>\n",
       "      <th>tanggal</th>\n",
       "      <th>nama_kelurahan</th>\n",
       "      <th>kategori</th>\n",
       "      <th>jumlah</th>\n",
       "    </tr>\n",
       "  </thead>\n",
       "  <tbody>\n",
       "    <tr>\n",
       "      <th>0</th>\n",
       "      <td>2021-11-06</td>\n",
       "      <td>ANCOL</td>\n",
       "      <td>SUSPEK</td>\n",
       "      <td>0</td>\n",
       "    </tr>\n",
       "    <tr>\n",
       "      <th>1</th>\n",
       "      <td>2021-11-06</td>\n",
       "      <td>ANGKE</td>\n",
       "      <td>SUSPEK</td>\n",
       "      <td>0</td>\n",
       "    </tr>\n",
       "    <tr>\n",
       "      <th>2</th>\n",
       "      <td>2021-11-06</td>\n",
       "      <td>BALE KAMBANG</td>\n",
       "      <td>SUSPEK</td>\n",
       "      <td>0</td>\n",
       "    </tr>\n",
       "    <tr>\n",
       "      <th>3</th>\n",
       "      <td>2021-11-06</td>\n",
       "      <td>BALI MESTER</td>\n",
       "      <td>SUSPEK</td>\n",
       "      <td>0</td>\n",
       "    </tr>\n",
       "    <tr>\n",
       "      <th>4</th>\n",
       "      <td>2021-11-06</td>\n",
       "      <td>BAMBU APUS</td>\n",
       "      <td>SUSPEK</td>\n",
       "      <td>0</td>\n",
       "    </tr>\n",
       "    <tr>\n",
       "      <th>...</th>\n",
       "      <td>...</td>\n",
       "      <td>...</td>\n",
       "      <td>...</td>\n",
       "      <td>...</td>\n",
       "    </tr>\n",
       "    <tr>\n",
       "      <th>22423</th>\n",
       "      <td>2021-11-27</td>\n",
       "      <td>UTAN KAYU SELATAN</td>\n",
       "      <td>POSITIF</td>\n",
       "      <td>0</td>\n",
       "    </tr>\n",
       "    <tr>\n",
       "      <th>22424</th>\n",
       "      <td>2021-11-27</td>\n",
       "      <td>UTAN KAYU UTARA</td>\n",
       "      <td>POSITIF</td>\n",
       "      <td>1</td>\n",
       "    </tr>\n",
       "    <tr>\n",
       "      <th>22425</th>\n",
       "      <td>2021-11-27</td>\n",
       "      <td>UTAN PANJANG</td>\n",
       "      <td>POSITIF</td>\n",
       "      <td>0</td>\n",
       "    </tr>\n",
       "    <tr>\n",
       "      <th>22426</th>\n",
       "      <td>2021-11-27</td>\n",
       "      <td>WARAKAS</td>\n",
       "      <td>POSITIF</td>\n",
       "      <td>0</td>\n",
       "    </tr>\n",
       "    <tr>\n",
       "      <th>22427</th>\n",
       "      <td>2021-11-27</td>\n",
       "      <td>WIJAYA KUSUMA</td>\n",
       "      <td>POSITIF</td>\n",
       "      <td>0</td>\n",
       "    </tr>\n",
       "  </tbody>\n",
       "</table>\n",
       "<p>22428 rows × 4 columns</p>\n",
       "</div>"
      ],
      "text/plain": [
       "          tanggal     nama_kelurahan kategori  jumlah\n",
       "0      2021-11-06              ANCOL   SUSPEK       0\n",
       "1      2021-11-06              ANGKE   SUSPEK       0\n",
       "2      2021-11-06       BALE KAMBANG   SUSPEK       0\n",
       "3      2021-11-06        BALI MESTER   SUSPEK       0\n",
       "4      2021-11-06         BAMBU APUS   SUSPEK       0\n",
       "...           ...                ...      ...     ...\n",
       "22423  2021-11-27  UTAN KAYU SELATAN  POSITIF       0\n",
       "22424  2021-11-27    UTAN KAYU UTARA  POSITIF       1\n",
       "22425  2021-11-27       UTAN PANJANG  POSITIF       0\n",
       "22426  2021-11-27            WARAKAS  POSITIF       0\n",
       "22427  2021-11-27      WIJAYA KUSUMA  POSITIF       0\n",
       "\n",
       "[22428 rows x 4 columns]"
      ]
     },
     "execution_count": 6,
     "metadata": {},
     "output_type": "execute_result"
    }
   ],
   "source": [
    "data[Column.tanggal] = pd.to_datetime(data.tanggal, infer_datetime_format=True).dt.date\n",
    "\n",
    "data"
   ]
  },
  {
   "attachments": {},
   "cell_type": "markdown",
   "metadata": {},
   "source": [
    "#### Visualisasi"
   ]
  },
  {
   "attachments": {},
   "cell_type": "markdown",
   "metadata": {},
   "source": [
    "Jumlah kasus dan kematian dalam kurun waktu per minggu, setiap data dibagi jika jumlah kasus melebihi 100"
   ]
  },
  {
   "cell_type": "code",
   "execution_count": 7,
   "metadata": {},
   "outputs": [
    {
     "data": {
      "text/html": [
       "<div>\n",
       "<style scoped>\n",
       "    .dataframe tbody tr th:only-of-type {\n",
       "        vertical-align: middle;\n",
       "    }\n",
       "\n",
       "    .dataframe tbody tr th {\n",
       "        vertical-align: top;\n",
       "    }\n",
       "\n",
       "    .dataframe thead th {\n",
       "        text-align: right;\n",
       "    }\n",
       "</style>\n",
       "<table border=\"1\" class=\"dataframe\">\n",
       "  <thead>\n",
       "    <tr style=\"text-align: right;\">\n",
       "      <th></th>\n",
       "      <th>tanggal</th>\n",
       "      <th>variable</th>\n",
       "      <th>value</th>\n",
       "    </tr>\n",
       "  </thead>\n",
       "  <tbody>\n",
       "    <tr>\n",
       "      <th>0</th>\n",
       "      <td>2021-11-06</td>\n",
       "      <td>jumlah</td>\n",
       "      <td>720956.0</td>\n",
       "    </tr>\n",
       "    <tr>\n",
       "      <th>1</th>\n",
       "      <td>2021-11-13</td>\n",
       "      <td>jumlah</td>\n",
       "      <td>721299.0</td>\n",
       "    </tr>\n",
       "    <tr>\n",
       "      <th>2</th>\n",
       "      <td>2021-11-20</td>\n",
       "      <td>jumlah</td>\n",
       "      <td>721630.0</td>\n",
       "    </tr>\n",
       "    <tr>\n",
       "      <th>3</th>\n",
       "      <td>2021-11-27</td>\n",
       "      <td>jumlah</td>\n",
       "      <td>721878.0</td>\n",
       "    </tr>\n",
       "  </tbody>\n",
       "</table>\n",
       "</div>"
      ],
      "text/plain": [
       "      tanggal variable     value\n",
       "0  2021-11-06   jumlah  720956.0\n",
       "1  2021-11-13   jumlah  721299.0\n",
       "2  2021-11-20   jumlah  721630.0\n",
       "3  2021-11-27   jumlah  721878.0"
      ]
     },
     "execution_count": 7,
     "metadata": {},
     "output_type": "execute_result"
    }
   ],
   "source": [
    "dfl = data[[\n",
    "        Column.tanggal, \n",
    "        Column.kategori, \n",
    "        Column.jumlah\n",
    "    ]].where(\n",
    "        data[Column.kategori] == \"POSITIF\"\n",
    "    ).groupby([Column.tanggal]).sum().reset_index()\n",
    "\n",
    "dfl = dfl[(dfl[Column.jumlah] >= 10)].melt(id_vars=Column.tanggal, value_vars=[Column.jumlah])\n",
    "\n",
    "dfl"
   ]
  },
  {
   "cell_type": "code",
   "execution_count": 8,
   "metadata": {},
   "outputs": [
    {
     "data": {
      "application/vnd.plotly.v1+json": {
       "config": {
        "plotlyServerURL": "https://plot.ly"
       },
       "data": [
        {
         "hovertemplate": "variable=jumlah<br>tanggal=%{x}<br>value=%{y}<extra></extra>",
         "legendgroup": "jumlah",
         "line": {
          "color": "#636efa",
          "dash": "solid"
         },
         "marker": {
          "symbol": "circle"
         },
         "mode": "lines",
         "name": "jumlah",
         "orientation": "v",
         "showlegend": true,
         "type": "scatter",
         "x": [
          "2021-11-06",
          "2021-11-13",
          "2021-11-20",
          "2021-11-27"
         ],
         "xaxis": "x",
         "y": [
          720956,
          721299,
          721630,
          721878
         ],
         "yaxis": "y"
        }
       ],
       "layout": {
        "legend": {
         "title": {
          "text": "variable"
         },
         "tracegroupgap": 0,
         "x": 0.02,
         "y": 0.98
        },
        "margin": {
         "t": 60
        },
        "template": {
         "data": {
          "bar": [
           {
            "error_x": {
             "color": "#2a3f5f"
            },
            "error_y": {
             "color": "#2a3f5f"
            },
            "marker": {
             "line": {
              "color": "#E5ECF6",
              "width": 0.5
             },
             "pattern": {
              "fillmode": "overlay",
              "size": 10,
              "solidity": 0.2
             }
            },
            "type": "bar"
           }
          ],
          "barpolar": [
           {
            "marker": {
             "line": {
              "color": "#E5ECF6",
              "width": 0.5
             },
             "pattern": {
              "fillmode": "overlay",
              "size": 10,
              "solidity": 0.2
             }
            },
            "type": "barpolar"
           }
          ],
          "carpet": [
           {
            "aaxis": {
             "endlinecolor": "#2a3f5f",
             "gridcolor": "white",
             "linecolor": "white",
             "minorgridcolor": "white",
             "startlinecolor": "#2a3f5f"
            },
            "baxis": {
             "endlinecolor": "#2a3f5f",
             "gridcolor": "white",
             "linecolor": "white",
             "minorgridcolor": "white",
             "startlinecolor": "#2a3f5f"
            },
            "type": "carpet"
           }
          ],
          "choropleth": [
           {
            "colorbar": {
             "outlinewidth": 0,
             "ticks": ""
            },
            "type": "choropleth"
           }
          ],
          "contour": [
           {
            "colorbar": {
             "outlinewidth": 0,
             "ticks": ""
            },
            "colorscale": [
             [
              0,
              "#0d0887"
             ],
             [
              0.1111111111111111,
              "#46039f"
             ],
             [
              0.2222222222222222,
              "#7201a8"
             ],
             [
              0.3333333333333333,
              "#9c179e"
             ],
             [
              0.4444444444444444,
              "#bd3786"
             ],
             [
              0.5555555555555556,
              "#d8576b"
             ],
             [
              0.6666666666666666,
              "#ed7953"
             ],
             [
              0.7777777777777778,
              "#fb9f3a"
             ],
             [
              0.8888888888888888,
              "#fdca26"
             ],
             [
              1,
              "#f0f921"
             ]
            ],
            "type": "contour"
           }
          ],
          "contourcarpet": [
           {
            "colorbar": {
             "outlinewidth": 0,
             "ticks": ""
            },
            "type": "contourcarpet"
           }
          ],
          "heatmap": [
           {
            "colorbar": {
             "outlinewidth": 0,
             "ticks": ""
            },
            "colorscale": [
             [
              0,
              "#0d0887"
             ],
             [
              0.1111111111111111,
              "#46039f"
             ],
             [
              0.2222222222222222,
              "#7201a8"
             ],
             [
              0.3333333333333333,
              "#9c179e"
             ],
             [
              0.4444444444444444,
              "#bd3786"
             ],
             [
              0.5555555555555556,
              "#d8576b"
             ],
             [
              0.6666666666666666,
              "#ed7953"
             ],
             [
              0.7777777777777778,
              "#fb9f3a"
             ],
             [
              0.8888888888888888,
              "#fdca26"
             ],
             [
              1,
              "#f0f921"
             ]
            ],
            "type": "heatmap"
           }
          ],
          "heatmapgl": [
           {
            "colorbar": {
             "outlinewidth": 0,
             "ticks": ""
            },
            "colorscale": [
             [
              0,
              "#0d0887"
             ],
             [
              0.1111111111111111,
              "#46039f"
             ],
             [
              0.2222222222222222,
              "#7201a8"
             ],
             [
              0.3333333333333333,
              "#9c179e"
             ],
             [
              0.4444444444444444,
              "#bd3786"
             ],
             [
              0.5555555555555556,
              "#d8576b"
             ],
             [
              0.6666666666666666,
              "#ed7953"
             ],
             [
              0.7777777777777778,
              "#fb9f3a"
             ],
             [
              0.8888888888888888,
              "#fdca26"
             ],
             [
              1,
              "#f0f921"
             ]
            ],
            "type": "heatmapgl"
           }
          ],
          "histogram": [
           {
            "marker": {
             "pattern": {
              "fillmode": "overlay",
              "size": 10,
              "solidity": 0.2
             }
            },
            "type": "histogram"
           }
          ],
          "histogram2d": [
           {
            "colorbar": {
             "outlinewidth": 0,
             "ticks": ""
            },
            "colorscale": [
             [
              0,
              "#0d0887"
             ],
             [
              0.1111111111111111,
              "#46039f"
             ],
             [
              0.2222222222222222,
              "#7201a8"
             ],
             [
              0.3333333333333333,
              "#9c179e"
             ],
             [
              0.4444444444444444,
              "#bd3786"
             ],
             [
              0.5555555555555556,
              "#d8576b"
             ],
             [
              0.6666666666666666,
              "#ed7953"
             ],
             [
              0.7777777777777778,
              "#fb9f3a"
             ],
             [
              0.8888888888888888,
              "#fdca26"
             ],
             [
              1,
              "#f0f921"
             ]
            ],
            "type": "histogram2d"
           }
          ],
          "histogram2dcontour": [
           {
            "colorbar": {
             "outlinewidth": 0,
             "ticks": ""
            },
            "colorscale": [
             [
              0,
              "#0d0887"
             ],
             [
              0.1111111111111111,
              "#46039f"
             ],
             [
              0.2222222222222222,
              "#7201a8"
             ],
             [
              0.3333333333333333,
              "#9c179e"
             ],
             [
              0.4444444444444444,
              "#bd3786"
             ],
             [
              0.5555555555555556,
              "#d8576b"
             ],
             [
              0.6666666666666666,
              "#ed7953"
             ],
             [
              0.7777777777777778,
              "#fb9f3a"
             ],
             [
              0.8888888888888888,
              "#fdca26"
             ],
             [
              1,
              "#f0f921"
             ]
            ],
            "type": "histogram2dcontour"
           }
          ],
          "mesh3d": [
           {
            "colorbar": {
             "outlinewidth": 0,
             "ticks": ""
            },
            "type": "mesh3d"
           }
          ],
          "parcoords": [
           {
            "line": {
             "colorbar": {
              "outlinewidth": 0,
              "ticks": ""
             }
            },
            "type": "parcoords"
           }
          ],
          "pie": [
           {
            "automargin": true,
            "type": "pie"
           }
          ],
          "scatter": [
           {
            "marker": {
             "colorbar": {
              "outlinewidth": 0,
              "ticks": ""
             }
            },
            "type": "scatter"
           }
          ],
          "scatter3d": [
           {
            "line": {
             "colorbar": {
              "outlinewidth": 0,
              "ticks": ""
             }
            },
            "marker": {
             "colorbar": {
              "outlinewidth": 0,
              "ticks": ""
             }
            },
            "type": "scatter3d"
           }
          ],
          "scattercarpet": [
           {
            "marker": {
             "colorbar": {
              "outlinewidth": 0,
              "ticks": ""
             }
            },
            "type": "scattercarpet"
           }
          ],
          "scattergeo": [
           {
            "marker": {
             "colorbar": {
              "outlinewidth": 0,
              "ticks": ""
             }
            },
            "type": "scattergeo"
           }
          ],
          "scattergl": [
           {
            "marker": {
             "colorbar": {
              "outlinewidth": 0,
              "ticks": ""
             }
            },
            "type": "scattergl"
           }
          ],
          "scattermapbox": [
           {
            "marker": {
             "colorbar": {
              "outlinewidth": 0,
              "ticks": ""
             }
            },
            "type": "scattermapbox"
           }
          ],
          "scatterpolar": [
           {
            "marker": {
             "colorbar": {
              "outlinewidth": 0,
              "ticks": ""
             }
            },
            "type": "scatterpolar"
           }
          ],
          "scatterpolargl": [
           {
            "marker": {
             "colorbar": {
              "outlinewidth": 0,
              "ticks": ""
             }
            },
            "type": "scatterpolargl"
           }
          ],
          "scatterternary": [
           {
            "marker": {
             "colorbar": {
              "outlinewidth": 0,
              "ticks": ""
             }
            },
            "type": "scatterternary"
           }
          ],
          "surface": [
           {
            "colorbar": {
             "outlinewidth": 0,
             "ticks": ""
            },
            "colorscale": [
             [
              0,
              "#0d0887"
             ],
             [
              0.1111111111111111,
              "#46039f"
             ],
             [
              0.2222222222222222,
              "#7201a8"
             ],
             [
              0.3333333333333333,
              "#9c179e"
             ],
             [
              0.4444444444444444,
              "#bd3786"
             ],
             [
              0.5555555555555556,
              "#d8576b"
             ],
             [
              0.6666666666666666,
              "#ed7953"
             ],
             [
              0.7777777777777778,
              "#fb9f3a"
             ],
             [
              0.8888888888888888,
              "#fdca26"
             ],
             [
              1,
              "#f0f921"
             ]
            ],
            "type": "surface"
           }
          ],
          "table": [
           {
            "cells": {
             "fill": {
              "color": "#EBF0F8"
             },
             "line": {
              "color": "white"
             }
            },
            "header": {
             "fill": {
              "color": "#C8D4E3"
             },
             "line": {
              "color": "white"
             }
            },
            "type": "table"
           }
          ]
         },
         "layout": {
          "annotationdefaults": {
           "arrowcolor": "#2a3f5f",
           "arrowhead": 0,
           "arrowwidth": 1
          },
          "autotypenumbers": "strict",
          "coloraxis": {
           "colorbar": {
            "outlinewidth": 0,
            "ticks": ""
           }
          },
          "colorscale": {
           "diverging": [
            [
             0,
             "#8e0152"
            ],
            [
             0.1,
             "#c51b7d"
            ],
            [
             0.2,
             "#de77ae"
            ],
            [
             0.3,
             "#f1b6da"
            ],
            [
             0.4,
             "#fde0ef"
            ],
            [
             0.5,
             "#f7f7f7"
            ],
            [
             0.6,
             "#e6f5d0"
            ],
            [
             0.7,
             "#b8e186"
            ],
            [
             0.8,
             "#7fbc41"
            ],
            [
             0.9,
             "#4d9221"
            ],
            [
             1,
             "#276419"
            ]
           ],
           "sequential": [
            [
             0,
             "#0d0887"
            ],
            [
             0.1111111111111111,
             "#46039f"
            ],
            [
             0.2222222222222222,
             "#7201a8"
            ],
            [
             0.3333333333333333,
             "#9c179e"
            ],
            [
             0.4444444444444444,
             "#bd3786"
            ],
            [
             0.5555555555555556,
             "#d8576b"
            ],
            [
             0.6666666666666666,
             "#ed7953"
            ],
            [
             0.7777777777777778,
             "#fb9f3a"
            ],
            [
             0.8888888888888888,
             "#fdca26"
            ],
            [
             1,
             "#f0f921"
            ]
           ],
           "sequentialminus": [
            [
             0,
             "#0d0887"
            ],
            [
             0.1111111111111111,
             "#46039f"
            ],
            [
             0.2222222222222222,
             "#7201a8"
            ],
            [
             0.3333333333333333,
             "#9c179e"
            ],
            [
             0.4444444444444444,
             "#bd3786"
            ],
            [
             0.5555555555555556,
             "#d8576b"
            ],
            [
             0.6666666666666666,
             "#ed7953"
            ],
            [
             0.7777777777777778,
             "#fb9f3a"
            ],
            [
             0.8888888888888888,
             "#fdca26"
            ],
            [
             1,
             "#f0f921"
            ]
           ]
          },
          "colorway": [
           "#636efa",
           "#EF553B",
           "#00cc96",
           "#ab63fa",
           "#FFA15A",
           "#19d3f3",
           "#FF6692",
           "#B6E880",
           "#FF97FF",
           "#FECB52"
          ],
          "font": {
           "color": "#2a3f5f"
          },
          "geo": {
           "bgcolor": "white",
           "lakecolor": "white",
           "landcolor": "#E5ECF6",
           "showlakes": true,
           "showland": true,
           "subunitcolor": "white"
          },
          "hoverlabel": {
           "align": "left"
          },
          "hovermode": "closest",
          "mapbox": {
           "style": "light"
          },
          "paper_bgcolor": "white",
          "plot_bgcolor": "#E5ECF6",
          "polar": {
           "angularaxis": {
            "gridcolor": "white",
            "linecolor": "white",
            "ticks": ""
           },
           "bgcolor": "#E5ECF6",
           "radialaxis": {
            "gridcolor": "white",
            "linecolor": "white",
            "ticks": ""
           }
          },
          "scene": {
           "xaxis": {
            "backgroundcolor": "#E5ECF6",
            "gridcolor": "white",
            "gridwidth": 2,
            "linecolor": "white",
            "showbackground": true,
            "ticks": "",
            "zerolinecolor": "white"
           },
           "yaxis": {
            "backgroundcolor": "#E5ECF6",
            "gridcolor": "white",
            "gridwidth": 2,
            "linecolor": "white",
            "showbackground": true,
            "ticks": "",
            "zerolinecolor": "white"
           },
           "zaxis": {
            "backgroundcolor": "#E5ECF6",
            "gridcolor": "white",
            "gridwidth": 2,
            "linecolor": "white",
            "showbackground": true,
            "ticks": "",
            "zerolinecolor": "white"
           }
          },
          "shapedefaults": {
           "line": {
            "color": "#2a3f5f"
           }
          },
          "ternary": {
           "aaxis": {
            "gridcolor": "white",
            "linecolor": "white",
            "ticks": ""
           },
           "baxis": {
            "gridcolor": "white",
            "linecolor": "white",
            "ticks": ""
           },
           "bgcolor": "#E5ECF6",
           "caxis": {
            "gridcolor": "white",
            "linecolor": "white",
            "ticks": ""
           }
          },
          "title": {
           "x": 0.05
          },
          "xaxis": {
           "automargin": true,
           "gridcolor": "white",
           "linecolor": "white",
           "ticks": "",
           "title": {
            "standoff": 15
           },
           "zerolinecolor": "white",
           "zerolinewidth": 2
          },
          "yaxis": {
           "automargin": true,
           "gridcolor": "white",
           "linecolor": "white",
           "ticks": "",
           "title": {
            "standoff": 15
           },
           "zerolinecolor": "white",
           "zerolinewidth": 2
          }
         }
        },
        "title": {
         "text": "COVID-19 in DKI Jakarta: total number of cases for each kelurahan on November 2021"
        },
        "xaxis": {
         "anchor": "y",
         "domain": [
          0,
          1
         ],
         "title": {
          "text": "DKI Jakarta"
         }
        },
        "yaxis": {
         "anchor": "x",
         "domain": [
          0,
          1
         ],
         "title": {
          "text": "Number of cases"
         }
        }
       }
      }
     },
     "metadata": {},
     "output_type": "display_data"
    }
   ],
   "source": [
    "vis_lp = px.line(dfl, x=Column.tanggal, y='value', color='variable')\n",
    "vis_lp.update_layout(\n",
    "                     title='COVID-19 in DKI Jakarta: total number of cases for each kelurahan on November 2021',\n",
    "                     xaxis_title='DKI Jakarta', yaxis_title='Number of cases', \n",
    "                     legend=dict(x=0.02, y=0.98))\n",
    "vis_lp.show()"
   ]
  },
  {
   "attachments": {},
   "cell_type": "markdown",
   "metadata": {},
   "source": [
    "Visualisasi bar plot jumlah kasus positif per kelurahan"
   ]
  },
  {
   "cell_type": "code",
   "execution_count": 9,
   "metadata": {},
   "outputs": [
    {
     "data": {
      "text/html": [
       "<div>\n",
       "<style scoped>\n",
       "    .dataframe tbody tr th:only-of-type {\n",
       "        vertical-align: middle;\n",
       "    }\n",
       "\n",
       "    .dataframe tbody tr th {\n",
       "        vertical-align: top;\n",
       "    }\n",
       "\n",
       "    .dataframe thead th {\n",
       "        text-align: right;\n",
       "    }\n",
       "</style>\n",
       "<table border=\"1\" class=\"dataframe\">\n",
       "  <thead>\n",
       "    <tr style=\"text-align: right;\">\n",
       "      <th></th>\n",
       "      <th>nama_kelurahan</th>\n",
       "      <th>variable</th>\n",
       "      <th>value</th>\n",
       "    </tr>\n",
       "  </thead>\n",
       "  <tbody>\n",
       "    <tr>\n",
       "      <th>0</th>\n",
       "      <td>JAGAKARSA</td>\n",
       "      <td>jumlah</td>\n",
       "      <td>26456.0</td>\n",
       "    </tr>\n",
       "    <tr>\n",
       "      <th>1</th>\n",
       "      <td>KAPUK</td>\n",
       "      <td>jumlah</td>\n",
       "      <td>26127.0</td>\n",
       "    </tr>\n",
       "    <tr>\n",
       "      <th>2</th>\n",
       "      <td>SUNTER JAYA</td>\n",
       "      <td>jumlah</td>\n",
       "      <td>24300.0</td>\n",
       "    </tr>\n",
       "    <tr>\n",
       "      <th>3</th>\n",
       "      <td>PEJAGALAN</td>\n",
       "      <td>jumlah</td>\n",
       "      <td>24124.0</td>\n",
       "    </tr>\n",
       "    <tr>\n",
       "      <th>4</th>\n",
       "      <td>CENGKARENG TIMUR</td>\n",
       "      <td>jumlah</td>\n",
       "      <td>24071.0</td>\n",
       "    </tr>\n",
       "    <tr>\n",
       "      <th>...</th>\n",
       "      <td>...</td>\n",
       "      <td>...</td>\n",
       "      <td>...</td>\n",
       "    </tr>\n",
       "    <tr>\n",
       "      <th>262</th>\n",
       "      <td>ROA MALAKA</td>\n",
       "      <td>jumlah</td>\n",
       "      <td>1109.0</td>\n",
       "    </tr>\n",
       "    <tr>\n",
       "      <th>263</th>\n",
       "      <td>PULAU PARI</td>\n",
       "      <td>jumlah</td>\n",
       "      <td>992.0</td>\n",
       "    </tr>\n",
       "    <tr>\n",
       "      <th>264</th>\n",
       "      <td>PULAU KELAPA</td>\n",
       "      <td>jumlah</td>\n",
       "      <td>680.0</td>\n",
       "    </tr>\n",
       "    <tr>\n",
       "      <th>265</th>\n",
       "      <td>PULAU UNTUNG JAWA</td>\n",
       "      <td>jumlah</td>\n",
       "      <td>552.0</td>\n",
       "    </tr>\n",
       "    <tr>\n",
       "      <th>266</th>\n",
       "      <td>PULAU HARAPAN</td>\n",
       "      <td>jumlah</td>\n",
       "      <td>356.0</td>\n",
       "    </tr>\n",
       "  </tbody>\n",
       "</table>\n",
       "<p>267 rows × 3 columns</p>\n",
       "</div>"
      ],
      "text/plain": [
       "        nama_kelurahan variable    value\n",
       "0            JAGAKARSA   jumlah  26456.0\n",
       "1                KAPUK   jumlah  26127.0\n",
       "2          SUNTER JAYA   jumlah  24300.0\n",
       "3            PEJAGALAN   jumlah  24124.0\n",
       "4     CENGKARENG TIMUR   jumlah  24071.0\n",
       "..                 ...      ...      ...\n",
       "262         ROA MALAKA   jumlah   1109.0\n",
       "263         PULAU PARI   jumlah    992.0\n",
       "264       PULAU KELAPA   jumlah    680.0\n",
       "265  PULAU UNTUNG JAWA   jumlah    552.0\n",
       "266      PULAU HARAPAN   jumlah    356.0\n",
       "\n",
       "[267 rows x 3 columns]"
      ]
     },
     "execution_count": 9,
     "metadata": {},
     "output_type": "execute_result"
    }
   ],
   "source": [
    "dfl = data[[\n",
    "        Column.nama_kelurahan, \n",
    "        Column.kategori, \n",
    "        Column.jumlah\n",
    "    ]].where(\n",
    "        data[Column.kategori] == \"POSITIF\"\n",
    "    ).groupby([Column.nama_kelurahan]).sum().sort_values(Column.jumlah, ascending=False).reset_index()\n",
    "\n",
    "dfl = dfl[(dfl[Column.jumlah] >= 10)].melt(id_vars=Column.nama_kelurahan, value_vars=[Column.jumlah])\n",
    "\n",
    "dfl"
   ]
  },
  {
   "cell_type": "code",
   "execution_count": 10,
   "metadata": {},
   "outputs": [
    {
     "data": {
      "application/vnd.plotly.v1+json": {
       "config": {
        "plotlyServerURL": "https://plot.ly"
       },
       "data": [
        {
         "alignmentgroup": "True",
         "hovertemplate": "nama_kelurahan=%{x}<br>value=%{y}<br>color=%{marker.color}<extra></extra>",
         "legendgroup": "",
         "marker": {
          "color": [
           10.183238254661628,
           10.17072454136085,
           10.09823162932864,
           10.090962474570878,
           10.088763075406442,
           10.075253595390565,
           10.070568559913799,
           10.059336788998968,
           10.05039779785075,
           10.035304977156315,
           10.018065457243564,
           10.011803696019587,
           10.007261810752583,
           9.9945614994355,
           9.987828700969878,
           9.981466593852717,
           9.979892883738533,
           9.940735166562794,
           9.925738161470948,
           9.922358373286379,
           9.904986428659864,
           9.878118461185586,
           9.862405107434897,
           9.857024678125788,
           9.851035692533705,
           9.844745532512365,
           9.815148021212604,
           9.808022360718061,
           9.802948727157515,
           9.78790833668397,
           9.784535083358834,
           9.781884730776879,
           9.77678989949017,
           9.767094927630573,
           9.729431740159207,
           9.726750374036074,
           9.724719673941472,
           9.716615658643356,
           9.714322633260165,
           9.710933825175925,
           9.704792681624228,
           9.703572127341126,
           9.692704790920137,
           9.687505794249539,
           9.678968055041988,
           9.678091466168624,
           9.677527538712344,
           9.672500823760892,
           9.671870704017296,
           9.670546158741807,
           9.668271419987649,
           9.658417870888224,
           9.65374331942474,
           9.640628165515693,
           9.63554274576738,
           9.63501969900815,
           9.624170396415975,
           9.623839785112668,
           9.621655004873238,
           9.593968785475173,
           9.586925780533697,
           9.585758558732051,
           9.578034382397348,
           9.575608290332934,
           9.566475170062406,
           9.566194979531012,
           9.562334377396374,
           9.559587800086119,
           9.554851637414007,
           9.551729074377214,
           9.544810605926722,
           9.533075832485352,
           9.529811766917371,
           9.525661930231381,
           9.522958929717996,
           9.522153924002891,
           9.519294579703503,
           9.507700460979235,
           9.506288188844996,
           9.50144159247362,
           9.49160187662504,
           9.491073355339758,
           9.488577985599964,
           9.486531677712465,
           9.484481173861296,
           9.465602553171852,
           9.464827539570322,
           9.460632055209405,
           9.460086905084927,
           9.458527693729824,
           9.44208681209766,
           9.433883843311719,
           9.423837546238587,
           9.423837546238587,
           9.417760962825156,
           9.405166749908611,
           9.404343433543975,
           9.403272107882152,
           9.399637542506563,
           9.396736947923277,
           9.3915780082071,
           9.3910773406399,
           9.389741000342473,
           9.388319179336001,
           9.375515769935166,
           9.375430991841775,
           9.368454615069874,
           9.357639058997062,
           9.356948391612272,
           9.355652103136237,
           9.3492323708428,
           9.348448774093812,
           9.342420712333391,
           9.34233308143468,
           9.33917324381915,
           9.333088837235236,
           9.33025446864152,
           9.322954516345318,
           9.318566777047053,
           9.318117964149614,
           9.31461029315198,
           9.314520190885846,
           9.294773427951013,
           9.280985211545515,
           9.27977314669152,
           9.267098705794792,
           9.262553243423117,
           9.254835611862735,
           9.247057954911346,
           9.246479418592056,
           9.245610986058102,
           9.235032984566555,
           9.23024103368252,
           9.226902460275161,
           9.224933374279082,
           9.206031100388085,
           9.201904893155081,
           9.200895913148184,
           9.196038587265322,
           9.194312610898985,
           9.18993356219852,
           9.189423123720795,
           9.182763604205949,
           9.181117513299279,
           9.171911345356401,
           9.163772736159848,
           9.163667963777751,
           9.162619635764772,
           9.15556734612889,
           9.154193211353181,
           9.14825217966276,
           9.14644164612595,
           9.132919225007598,
           9.132811169466946,
           9.128262260940575,
           9.126632622902697,
           9.109303827798412,
           9.104201775914515,
           9.082507000466299,
           9.07829359105585,
           9.069467813094768,
           9.059168584174444,
           9.05893591781695,
           9.0583540149783,
           9.0583540149783,
           9.050758302151717,
           9.041803370152845,
           9.03884005381381,
           9.034795799461252,
           9.029777268197092,
           9.027858802380862,
           9.022081222515475,
           9.013838751608395,
           9.011157458106817,
           9.010058489805235,
           9.007979359844501,
           9.002331708246244,
           8.999125391527247,
           8.990939806940807,
           8.976641306722456,
           8.975756630519417,
           8.974744612722734,
           8.970813341411448,
           8.970177815492379,
           8.9680140012452,
           8.965462328515967,
           8.960596138864794,
           8.95686647085414,
           8.956093075610639,
           8.955577146281511,
           8.944811104165534,
           8.937349848267392,
           8.903679332926599,
           8.901775088607979,
           8.889446165318288,
           8.883778861463485,
           8.882391706295847,
           8.865029186687766,
           8.85922139360813,
           8.85623355614316,
           8.855378246041125,
           8.852521917335372,
           8.817890200945513,
           8.816556768641856,
           8.814330422638774,
           8.809116258125274,
           8.801920904041582,
           8.79300509129753,
           8.790725628263576,
           8.787067645218054,
           8.775703886567738,
           8.73985662749357,
           8.696343057044556,
           8.682538124003075,
           8.672999642554437,
           8.656259239539235,
           8.654691704601872,
           8.631949428714426,
           8.604654467186231,
           8.57922858233569,
           8.54772239645106,
           8.543835122362658,
           8.527539483470381,
           8.505727713306959,
           8.496582237512113,
           8.485496104672983,
           8.478452363099807,
           8.462314529906248,
           8.453614209773367,
           8.447628728030327,
           8.434680769841773,
           8.418256443556213,
           8.402455513945814,
           8.368693183097793,
           8.360773272144936,
           8.32457884513685,
           8.308938252595778,
           8.287780027088433,
           8.281977058867758,
           8.278174290943738,
           8.277411998949004,
           8.248529124800218,
           8.240385115516334,
           8.150179269682326,
           8.148734808937169,
           8.1101268019411,
           8.078998258685154,
           8.075271546297458,
           8.057060681965766,
           7.98139158158007,
           7.968665700466235,
           7.953318346560431,
           7.893572073504902,
           7.855544677915663,
           7.776535028185241,
           7.641084249174914,
           7.524021415206125,
           7.504391559161238,
           7.4073177104694174,
           7.3727463664043285,
           7.329093736246592,
           7.148345743900068,
           7.011213987350367,
           6.899723107284872,
           6.522092798170152,
           6.313548046277095,
           5.87493073085203
          ],
          "coloraxis": "coloraxis",
          "pattern": {
           "shape": ""
          }
         },
         "name": "",
         "offsetgroup": "",
         "orientation": "v",
         "showlegend": false,
         "textposition": "auto",
         "type": "bar",
         "x": [
          "JAGAKARSA",
          "KAPUK",
          "SUNTER JAYA",
          "PEJAGALAN",
          "CENGKARENG TIMUR",
          "CIBUBUR",
          "PADEMANGAN TIMUR",
          "SUNTER AGUNG",
          "CIRACAS",
          "LUBANG BUAYA",
          "CENGKARENG BARAT",
          "PENGGILINGAN",
          "PONDOK BAMBU",
          "PALMERAH",
          "DUREN SAWIT",
          "PONDOK KELAPA",
          "CILANDAK BARAT",
          "SRENGSENG SAWAH",
          "PULO GEBANG",
          "KEBON JERUK",
          "PADEMANGAN BARAT",
          "CIPINANG MUARA",
          "DURI KOSAMBI",
          "PONDOK PINANG",
          "KALIDERES",
          "PENJARINGAN",
          "KLENDER",
          "TEGAL ALUR",
          "KELAPA DUA WETAN",
          "PEGADUNGAN",
          "PEGANGSAAN DUA",
          "KALISARI",
          "TUGU UTARA",
          "SEMPER BARAT",
          "DURI KEPA",
          "HALIM PERDANA KUSUMAH",
          "LENTENG AGUNG",
          "JATINEGARA",
          "PLUIT",
          "CEMPAKA PUTIH BARAT",
          "KELAPA GADING BARAT",
          "KELAPA GADING TIMUR",
          "CIGANJUR",
          "KALIBATA",
          "KAYU PUTIH",
          "JOHAR BARU",
          "PETUKANGAN UTARA",
          "KEBON PALA",
          "PELA MAMPANG",
          "LEBAK BULUS",
          "KEBON BAWANG",
          "CIJANTUNG",
          "BINTARO",
          "PONDOK LABU",
          "SRENGSENG",
          "BATU AMPAR",
          "MERUYA UTARA",
          "PEJATEN TIMUR",
          "RAGUNAN",
          "LAGOA",
          "UTAN KAYU SELATAN",
          "RAWAMANGUN",
          "KEMBANGAN UTARA",
          "CIPINANG",
          "CIPAYUNG",
          "JOGLO",
          "KEBAGUSAN",
          "MAKASAR",
          "RAWA BUAYA",
          "KEBAYORAN LAMA SELATAN",
          "CILILITAN",
          "PEJATEN BARAT",
          "KAMPUNG TENGAH",
          "JATI PADANG",
          "CIPINANG MELAYU",
          "GANDARIA UTARA",
          "KRAMAT JATI",
          "JELAMBAR",
          "PISANGAN TIMUR",
          "CIPEDAK",
          "PEKAYON",
          "CILANGKAP",
          "GEDONG",
          "RAWASARI",
          "SUSUKAN",
          "JELAMBAR BARU",
          "KEBON KOSONG",
          "ULUJAMI",
          "CAWANG",
          "TANJUNG BARAT",
          "MERUYA SELATAN",
          "KEDOYA UTARA",
          "MENTENG DALAM",
          "CEMPAKA PUTIH TIMUR",
          "MALAKA JAYA",
          "GROGOL UTARA",
          "KEMANGGISAN",
          "BIDARA CINA",
          "CEMPAKA BARU",
          "BAMBU APUS",
          "KEBAYORAN LAMA UTARA",
          "GROGOL SELATAN",
          "KARET KUNINGAN",
          "WARAKAS",
          "TEBET BARAT",
          "RAMBUTAN",
          "PASAR MINGGU",
          "CAKUNG TIMUR",
          "JATI",
          "CILANDAK TIMUR",
          "MALAKA SARI",
          "WIJAYA KUSUMA",
          "SUKAPURA",
          "SUKABUMI UTARA",
          "PETUKANGAN SELATAN",
          "SERDANG",
          "CIPETE UTARA",
          "TANJUNG DUREN SELATAN",
          "KAPUK MUARA",
          "CIPINANG BESAR UTARA",
          "MUNJUL",
          "PONDOK RANGGON",
          "CIPULIR",
          "BARU",
          "KEBON BARU",
          "SEMANAN",
          "KEMAYORAN",
          "PULO GADUNG",
          "CIPINANG BESAR SELATAN",
          "MENTENG ATAS",
          "CIPINANG CEMPEDAK",
          "PASEBAN",
          "CILINCING",
          "PONDOK KOPI",
          "PISANGAN BARU",
          "RAWA BADAK SELATAN",
          "TOMANG",
          "RAWA JATI",
          "TANJUNG PRIOK",
          "TEGAL PARANG",
          "KEDOYA SELATAN",
          "DUREN TIGA",
          "PESANGGRAHAN",
          "CIPETE SELATAN",
          "PETAMBURAN",
          "KAYU MANIS",
          "BUKIT DURI",
          "ROROTAN",
          "TUGU SELATAN",
          "GUNUNG",
          "PINANG RANTI",
          "SUMUR BATU",
          "GROGOL",
          "UTAN KAYU UTARA",
          "SEMPER TIMUR",
          "KEMBANGAN SELATAN",
          "PAPANGGO",
          "RAWA BADAK UTARA",
          "KELAPA DUA",
          "PENGADEGAN",
          "SUNGAI BAMBU",
          "KEDAUNG KALI ANGKE",
          "SUKABUMI SELATAN",
          "MAMPANG PRAPATAN",
          "SLIPI",
          "BALE KAMBANG",
          "DUKUH",
          "CAKUNG BARAT",
          "TANAH TINGGI",
          "MENTENG",
          "BENDUNGAN HILIR",
          "CEGER",
          "TEBET TIMUR",
          "GANDARIA SELATAN",
          "PANCORAN",
          "KOJA",
          "PASAR MANGGIS",
          "TANJUNG DUREN UTARA",
          "KRAMAT",
          "MANGGARAI SELATAN",
          "GUNUNG SAHARI SELATAN",
          "PEGANGSAAN",
          "UTAN PANJANG",
          "SETU",
          "KEBON MELATI",
          "TANAH SEREAL",
          "HARAPAN MULIA",
          "ANCOL",
          "MANGGA DUA SELATAN",
          "BANGKA",
          "KARANG ANYAR",
          "KARTINI",
          "ANGKE",
          "KUNINGAN TIMUR",
          "PEKOJAN",
          "MANGGARAI",
          "UJUNG MENTENG",
          "JATI PULO",
          "KOTA BAMBU SELATAN",
          "CIDENG",
          "KALI BARU",
          "GUNUNG SAHARI UTARA",
          "KARET TENGSIN",
          "PETOJO SELATAN",
          "JATINEGARA KAUM",
          "PAL MERIAM",
          "KEBON MANGGIS",
          "PASAR BARU",
          "KEBON KACANG",
          "KOTA BAMBU UTARA",
          "KAMAL",
          "JEMBATAN BESI",
          "KAMPUNG MELAYU",
          "KAMPUNG RAWA",
          "DURI PULO",
          "BUNGUR",
          "PETOJO UTARA",
          "TAMAN SARI",
          "JEMBATAN LIMA",
          "RAWA BUNGA",
          "DURI UTARA",
          "MAPHAR",
          "KRUKUT",
          "GAMBIR",
          "KWITANG",
          "KEAGUNGAN",
          "MARUNDA",
          "KERENDANG",
          "KALI ANYAR",
          "KENARI",
          "TANGKI",
          "CIKOKO",
          "GALUR",
          "PETOGOGAN",
          "KRAMAT PELA",
          "KARET",
          "RAWA TERATE",
          "KUNINGAN BARAT",
          "KEBON SIRIH",
          "SENEN",
          "KEBON KELAPA",
          "KAMAL MUARA",
          "SENAYAN",
          "DURI SELATAN",
          "BALI MESTER",
          "MANGGA BESAR",
          "GLODOK",
          "PINANGSIA",
          "TAMBORA",
          "KAMPUNG BALI",
          "PULO",
          "CIKINI",
          "GONDANGDIA",
          "SETIA BUDI",
          "RAWA BARAT",
          "GELORA",
          "MELAWAI",
          "GUNTUR",
          "KARET SEMANGGI",
          "SELONG",
          "PULAU PANGGANG",
          "PULAU TIDUNG",
          "ROA MALAKA",
          "PULAU PARI",
          "PULAU KELAPA",
          "PULAU UNTUNG JAWA",
          "PULAU HARAPAN"
         ],
         "xaxis": "x",
         "y": [
          26456,
          26127,
          24300,
          24124,
          24071,
          23748,
          23637,
          23373,
          23165,
          22818,
          22428,
          22288,
          22187,
          21907,
          21760,
          21622,
          21588,
          20759,
          20450,
          20381,
          20030,
          19499,
          19195,
          19092,
          18978,
          18859,
          18309,
          18179,
          18087,
          17817,
          17757,
          17710,
          17620,
          17450,
          16805,
          16760,
          16726,
          16591,
          16553,
          16497,
          16396,
          16376,
          16199,
          16115,
          15978,
          15964,
          15955,
          15875,
          15865,
          15844,
          15808,
          15653,
          15580,
          15377,
          15299,
          15291,
          15126,
          15121,
          15088,
          14676,
          14573,
          14556,
          14444,
          14409,
          14278,
          14274,
          14219,
          14180,
          14113,
          14069,
          13972,
          13809,
          13764,
          13707,
          13670,
          13659,
          13620,
          13463,
          13444,
          13379,
          13248,
          13241,
          13208,
          13181,
          13154,
          12908,
          12898,
          12844,
          12837,
          12817,
          12608,
          12505,
          12380,
          12380,
          12305,
          12151,
          12141,
          12128,
          12084,
          12049,
          11987,
          11981,
          11965,
          11948,
          11796,
          11795,
          11713,
          11587,
          11579,
          11564,
          11490,
          11481,
          11412,
          11411,
          11375,
          11306,
          11274,
          11192,
          11143,
          11138,
          11099,
          11098,
          10881,
          10732,
          10719,
          10584,
          10536,
          10455,
          10374,
          10368,
          10359,
          10250,
          10201,
          10167,
          10147,
          9957,
          9916,
          9906,
          9858,
          9841,
          9798,
          9793,
          9728,
          9712,
          9623,
          9545,
          9544,
          9534,
          9467,
          9454,
          9398,
          9381,
          9255,
          9254,
          9212,
          9197,
          9039,
          8993,
          8800,
          8763,
          8686,
          8597,
          8595,
          8590,
          8590,
          8525,
          8449,
          8424,
          8390,
          8348,
          8332,
          8284,
          8216,
          8194,
          8185,
          8168,
          8122,
          8096,
          8030,
          7916,
          7909,
          7901,
          7870,
          7865,
          7848,
          7828,
          7790,
          7761,
          7755,
          7751,
          7668,
          7611,
          7359,
          7345,
          7255,
          7214,
          7204,
          7080,
          7039,
          7018,
          7012,
          6992,
          6754,
          6745,
          6730,
          6695,
          6647,
          6588,
          6573,
          6549,
          6475,
          6247,
          5981,
          5899,
          5843,
          5746,
          5737,
          5608,
          5457,
          5320,
          5155,
          5135,
          5052,
          4943,
          4898,
          4844,
          4810,
          4733,
          4692,
          4664,
          4604,
          4529,
          4458,
          4310,
          4276,
          4124,
          4060,
          3975,
          3952,
          3937,
          3934,
          3822,
          3791,
          3464,
          3459,
          3328,
          3226,
          3214,
          3156,
          2926,
          2889,
          2845,
          2680,
          2580,
          2384,
          2082,
          1852,
          1816,
          1648,
          1592,
          1524,
          1272,
          1109,
          992,
          680,
          552,
          356
         ],
         "yaxis": "y"
        }
       ],
       "layout": {
        "barmode": "relative",
        "coloraxis": {
         "colorbar": {
          "title": {
           "text": "color"
          }
         },
         "colorscale": [
          [
           0,
           "rgb(75, 41, 145)"
          ],
          [
           0.16666666666666666,
           "rgb(135, 44, 162)"
          ],
          [
           0.3333333333333333,
           "rgb(192, 54, 157)"
          ],
          [
           0.5,
           "rgb(234, 79, 136)"
          ],
          [
           0.6666666666666666,
           "rgb(250, 120, 118)"
          ],
          [
           0.8333333333333334,
           "rgb(246, 169, 122)"
          ],
          [
           1,
           "rgb(237, 217, 163)"
          ]
         ]
        },
        "legend": {
         "tracegroupgap": 0,
         "x": 0.02,
         "y": 0.98
        },
        "margin": {
         "t": 60
        },
        "template": {
         "data": {
          "bar": [
           {
            "error_x": {
             "color": "#2a3f5f"
            },
            "error_y": {
             "color": "#2a3f5f"
            },
            "marker": {
             "line": {
              "color": "#E5ECF6",
              "width": 0.5
             },
             "pattern": {
              "fillmode": "overlay",
              "size": 10,
              "solidity": 0.2
             }
            },
            "type": "bar"
           }
          ],
          "barpolar": [
           {
            "marker": {
             "line": {
              "color": "#E5ECF6",
              "width": 0.5
             },
             "pattern": {
              "fillmode": "overlay",
              "size": 10,
              "solidity": 0.2
             }
            },
            "type": "barpolar"
           }
          ],
          "carpet": [
           {
            "aaxis": {
             "endlinecolor": "#2a3f5f",
             "gridcolor": "white",
             "linecolor": "white",
             "minorgridcolor": "white",
             "startlinecolor": "#2a3f5f"
            },
            "baxis": {
             "endlinecolor": "#2a3f5f",
             "gridcolor": "white",
             "linecolor": "white",
             "minorgridcolor": "white",
             "startlinecolor": "#2a3f5f"
            },
            "type": "carpet"
           }
          ],
          "choropleth": [
           {
            "colorbar": {
             "outlinewidth": 0,
             "ticks": ""
            },
            "type": "choropleth"
           }
          ],
          "contour": [
           {
            "colorbar": {
             "outlinewidth": 0,
             "ticks": ""
            },
            "colorscale": [
             [
              0,
              "#0d0887"
             ],
             [
              0.1111111111111111,
              "#46039f"
             ],
             [
              0.2222222222222222,
              "#7201a8"
             ],
             [
              0.3333333333333333,
              "#9c179e"
             ],
             [
              0.4444444444444444,
              "#bd3786"
             ],
             [
              0.5555555555555556,
              "#d8576b"
             ],
             [
              0.6666666666666666,
              "#ed7953"
             ],
             [
              0.7777777777777778,
              "#fb9f3a"
             ],
             [
              0.8888888888888888,
              "#fdca26"
             ],
             [
              1,
              "#f0f921"
             ]
            ],
            "type": "contour"
           }
          ],
          "contourcarpet": [
           {
            "colorbar": {
             "outlinewidth": 0,
             "ticks": ""
            },
            "type": "contourcarpet"
           }
          ],
          "heatmap": [
           {
            "colorbar": {
             "outlinewidth": 0,
             "ticks": ""
            },
            "colorscale": [
             [
              0,
              "#0d0887"
             ],
             [
              0.1111111111111111,
              "#46039f"
             ],
             [
              0.2222222222222222,
              "#7201a8"
             ],
             [
              0.3333333333333333,
              "#9c179e"
             ],
             [
              0.4444444444444444,
              "#bd3786"
             ],
             [
              0.5555555555555556,
              "#d8576b"
             ],
             [
              0.6666666666666666,
              "#ed7953"
             ],
             [
              0.7777777777777778,
              "#fb9f3a"
             ],
             [
              0.8888888888888888,
              "#fdca26"
             ],
             [
              1,
              "#f0f921"
             ]
            ],
            "type": "heatmap"
           }
          ],
          "heatmapgl": [
           {
            "colorbar": {
             "outlinewidth": 0,
             "ticks": ""
            },
            "colorscale": [
             [
              0,
              "#0d0887"
             ],
             [
              0.1111111111111111,
              "#46039f"
             ],
             [
              0.2222222222222222,
              "#7201a8"
             ],
             [
              0.3333333333333333,
              "#9c179e"
             ],
             [
              0.4444444444444444,
              "#bd3786"
             ],
             [
              0.5555555555555556,
              "#d8576b"
             ],
             [
              0.6666666666666666,
              "#ed7953"
             ],
             [
              0.7777777777777778,
              "#fb9f3a"
             ],
             [
              0.8888888888888888,
              "#fdca26"
             ],
             [
              1,
              "#f0f921"
             ]
            ],
            "type": "heatmapgl"
           }
          ],
          "histogram": [
           {
            "marker": {
             "pattern": {
              "fillmode": "overlay",
              "size": 10,
              "solidity": 0.2
             }
            },
            "type": "histogram"
           }
          ],
          "histogram2d": [
           {
            "colorbar": {
             "outlinewidth": 0,
             "ticks": ""
            },
            "colorscale": [
             [
              0,
              "#0d0887"
             ],
             [
              0.1111111111111111,
              "#46039f"
             ],
             [
              0.2222222222222222,
              "#7201a8"
             ],
             [
              0.3333333333333333,
              "#9c179e"
             ],
             [
              0.4444444444444444,
              "#bd3786"
             ],
             [
              0.5555555555555556,
              "#d8576b"
             ],
             [
              0.6666666666666666,
              "#ed7953"
             ],
             [
              0.7777777777777778,
              "#fb9f3a"
             ],
             [
              0.8888888888888888,
              "#fdca26"
             ],
             [
              1,
              "#f0f921"
             ]
            ],
            "type": "histogram2d"
           }
          ],
          "histogram2dcontour": [
           {
            "colorbar": {
             "outlinewidth": 0,
             "ticks": ""
            },
            "colorscale": [
             [
              0,
              "#0d0887"
             ],
             [
              0.1111111111111111,
              "#46039f"
             ],
             [
              0.2222222222222222,
              "#7201a8"
             ],
             [
              0.3333333333333333,
              "#9c179e"
             ],
             [
              0.4444444444444444,
              "#bd3786"
             ],
             [
              0.5555555555555556,
              "#d8576b"
             ],
             [
              0.6666666666666666,
              "#ed7953"
             ],
             [
              0.7777777777777778,
              "#fb9f3a"
             ],
             [
              0.8888888888888888,
              "#fdca26"
             ],
             [
              1,
              "#f0f921"
             ]
            ],
            "type": "histogram2dcontour"
           }
          ],
          "mesh3d": [
           {
            "colorbar": {
             "outlinewidth": 0,
             "ticks": ""
            },
            "type": "mesh3d"
           }
          ],
          "parcoords": [
           {
            "line": {
             "colorbar": {
              "outlinewidth": 0,
              "ticks": ""
             }
            },
            "type": "parcoords"
           }
          ],
          "pie": [
           {
            "automargin": true,
            "type": "pie"
           }
          ],
          "scatter": [
           {
            "marker": {
             "colorbar": {
              "outlinewidth": 0,
              "ticks": ""
             }
            },
            "type": "scatter"
           }
          ],
          "scatter3d": [
           {
            "line": {
             "colorbar": {
              "outlinewidth": 0,
              "ticks": ""
             }
            },
            "marker": {
             "colorbar": {
              "outlinewidth": 0,
              "ticks": ""
             }
            },
            "type": "scatter3d"
           }
          ],
          "scattercarpet": [
           {
            "marker": {
             "colorbar": {
              "outlinewidth": 0,
              "ticks": ""
             }
            },
            "type": "scattercarpet"
           }
          ],
          "scattergeo": [
           {
            "marker": {
             "colorbar": {
              "outlinewidth": 0,
              "ticks": ""
             }
            },
            "type": "scattergeo"
           }
          ],
          "scattergl": [
           {
            "marker": {
             "colorbar": {
              "outlinewidth": 0,
              "ticks": ""
             }
            },
            "type": "scattergl"
           }
          ],
          "scattermapbox": [
           {
            "marker": {
             "colorbar": {
              "outlinewidth": 0,
              "ticks": ""
             }
            },
            "type": "scattermapbox"
           }
          ],
          "scatterpolar": [
           {
            "marker": {
             "colorbar": {
              "outlinewidth": 0,
              "ticks": ""
             }
            },
            "type": "scatterpolar"
           }
          ],
          "scatterpolargl": [
           {
            "marker": {
             "colorbar": {
              "outlinewidth": 0,
              "ticks": ""
             }
            },
            "type": "scatterpolargl"
           }
          ],
          "scatterternary": [
           {
            "marker": {
             "colorbar": {
              "outlinewidth": 0,
              "ticks": ""
             }
            },
            "type": "scatterternary"
           }
          ],
          "surface": [
           {
            "colorbar": {
             "outlinewidth": 0,
             "ticks": ""
            },
            "colorscale": [
             [
              0,
              "#0d0887"
             ],
             [
              0.1111111111111111,
              "#46039f"
             ],
             [
              0.2222222222222222,
              "#7201a8"
             ],
             [
              0.3333333333333333,
              "#9c179e"
             ],
             [
              0.4444444444444444,
              "#bd3786"
             ],
             [
              0.5555555555555556,
              "#d8576b"
             ],
             [
              0.6666666666666666,
              "#ed7953"
             ],
             [
              0.7777777777777778,
              "#fb9f3a"
             ],
             [
              0.8888888888888888,
              "#fdca26"
             ],
             [
              1,
              "#f0f921"
             ]
            ],
            "type": "surface"
           }
          ],
          "table": [
           {
            "cells": {
             "fill": {
              "color": "#EBF0F8"
             },
             "line": {
              "color": "white"
             }
            },
            "header": {
             "fill": {
              "color": "#C8D4E3"
             },
             "line": {
              "color": "white"
             }
            },
            "type": "table"
           }
          ]
         },
         "layout": {
          "annotationdefaults": {
           "arrowcolor": "#2a3f5f",
           "arrowhead": 0,
           "arrowwidth": 1
          },
          "autotypenumbers": "strict",
          "coloraxis": {
           "colorbar": {
            "outlinewidth": 0,
            "ticks": ""
           }
          },
          "colorscale": {
           "diverging": [
            [
             0,
             "#8e0152"
            ],
            [
             0.1,
             "#c51b7d"
            ],
            [
             0.2,
             "#de77ae"
            ],
            [
             0.3,
             "#f1b6da"
            ],
            [
             0.4,
             "#fde0ef"
            ],
            [
             0.5,
             "#f7f7f7"
            ],
            [
             0.6,
             "#e6f5d0"
            ],
            [
             0.7,
             "#b8e186"
            ],
            [
             0.8,
             "#7fbc41"
            ],
            [
             0.9,
             "#4d9221"
            ],
            [
             1,
             "#276419"
            ]
           ],
           "sequential": [
            [
             0,
             "#0d0887"
            ],
            [
             0.1111111111111111,
             "#46039f"
            ],
            [
             0.2222222222222222,
             "#7201a8"
            ],
            [
             0.3333333333333333,
             "#9c179e"
            ],
            [
             0.4444444444444444,
             "#bd3786"
            ],
            [
             0.5555555555555556,
             "#d8576b"
            ],
            [
             0.6666666666666666,
             "#ed7953"
            ],
            [
             0.7777777777777778,
             "#fb9f3a"
            ],
            [
             0.8888888888888888,
             "#fdca26"
            ],
            [
             1,
             "#f0f921"
            ]
           ],
           "sequentialminus": [
            [
             0,
             "#0d0887"
            ],
            [
             0.1111111111111111,
             "#46039f"
            ],
            [
             0.2222222222222222,
             "#7201a8"
            ],
            [
             0.3333333333333333,
             "#9c179e"
            ],
            [
             0.4444444444444444,
             "#bd3786"
            ],
            [
             0.5555555555555556,
             "#d8576b"
            ],
            [
             0.6666666666666666,
             "#ed7953"
            ],
            [
             0.7777777777777778,
             "#fb9f3a"
            ],
            [
             0.8888888888888888,
             "#fdca26"
            ],
            [
             1,
             "#f0f921"
            ]
           ]
          },
          "colorway": [
           "#636efa",
           "#EF553B",
           "#00cc96",
           "#ab63fa",
           "#FFA15A",
           "#19d3f3",
           "#FF6692",
           "#B6E880",
           "#FF97FF",
           "#FECB52"
          ],
          "font": {
           "color": "#2a3f5f"
          },
          "geo": {
           "bgcolor": "white",
           "lakecolor": "white",
           "landcolor": "#E5ECF6",
           "showlakes": true,
           "showland": true,
           "subunitcolor": "white"
          },
          "hoverlabel": {
           "align": "left"
          },
          "hovermode": "closest",
          "mapbox": {
           "style": "light"
          },
          "paper_bgcolor": "white",
          "plot_bgcolor": "#E5ECF6",
          "polar": {
           "angularaxis": {
            "gridcolor": "white",
            "linecolor": "white",
            "ticks": ""
           },
           "bgcolor": "#E5ECF6",
           "radialaxis": {
            "gridcolor": "white",
            "linecolor": "white",
            "ticks": ""
           }
          },
          "scene": {
           "xaxis": {
            "backgroundcolor": "#E5ECF6",
            "gridcolor": "white",
            "gridwidth": 2,
            "linecolor": "white",
            "showbackground": true,
            "ticks": "",
            "zerolinecolor": "white"
           },
           "yaxis": {
            "backgroundcolor": "#E5ECF6",
            "gridcolor": "white",
            "gridwidth": 2,
            "linecolor": "white",
            "showbackground": true,
            "ticks": "",
            "zerolinecolor": "white"
           },
           "zaxis": {
            "backgroundcolor": "#E5ECF6",
            "gridcolor": "white",
            "gridwidth": 2,
            "linecolor": "white",
            "showbackground": true,
            "ticks": "",
            "zerolinecolor": "white"
           }
          },
          "shapedefaults": {
           "line": {
            "color": "#2a3f5f"
           }
          },
          "ternary": {
           "aaxis": {
            "gridcolor": "white",
            "linecolor": "white",
            "ticks": ""
           },
           "baxis": {
            "gridcolor": "white",
            "linecolor": "white",
            "ticks": ""
           },
           "bgcolor": "#E5ECF6",
           "caxis": {
            "gridcolor": "white",
            "linecolor": "white",
            "ticks": ""
           }
          },
          "title": {
           "x": 0.05
          },
          "xaxis": {
           "automargin": true,
           "gridcolor": "white",
           "linecolor": "white",
           "ticks": "",
           "title": {
            "standoff": 15
           },
           "zerolinecolor": "white",
           "zerolinewidth": 2
          },
          "yaxis": {
           "automargin": true,
           "gridcolor": "white",
           "linecolor": "white",
           "ticks": "",
           "title": {
            "standoff": 15
           },
           "zerolinecolor": "white",
           "zerolinewidth": 2
          }
         }
        },
        "title": {
         "text": "COVID-19 in DKI Jakarta: total number of cases for each kelurahan on November 2021"
        },
        "xaxis": {
         "anchor": "y",
         "domain": [
          0,
          1
         ],
         "title": {
          "text": "DKI Jakarta"
         }
        },
        "yaxis": {
         "anchor": "x",
         "domain": [
          0,
          1
         ],
         "title": {
          "text": "Number of cases"
         }
        }
       }
      }
     },
     "metadata": {},
     "output_type": "display_data"
    }
   ],
   "source": [
    "vis_lp = px.bar(dfl, x=Column.nama_kelurahan, y='value', color=np.log(dfl['value']), color_continuous_scale=px.colors.sequential.Agsunset)\n",
    "vis_lp.update_layout(\n",
    "                     title='COVID-19 in DKI Jakarta: total number of cases for each kelurahan on November 2021',\n",
    "                     xaxis_title='DKI Jakarta', yaxis_title='Number of cases', \n",
    "                     legend=dict(x=0.02, y=0.98))\n",
    "vis_lp.show()"
   ]
  },
  {
   "attachments": {},
   "cell_type": "markdown",
   "metadata": {},
   "source": [
    "Normalization"
   ]
  },
  {
   "cell_type": "code",
   "execution_count": 11,
   "metadata": {},
   "outputs": [],
   "source": [
    "scaler = StandardScaler()\n",
    "scaled_features = scaler.fit_transform(data[Column.jumlah].values.reshape(-1, 1))"
   ]
  },
  {
   "cell_type": "code",
   "execution_count": 12,
   "metadata": {},
   "outputs": [],
   "source": [
    "kmeans_kwargs = {\n",
    "    \"init\": \"random\",\n",
    "    \"n_init\": 10,\n",
    "    \"max_iter\": 300,\n",
    "    \"random_state\": 42,\n",
    "}\n",
    "\n",
    "# A list holds the SSE values for each k\n",
    "sse = []\n",
    "for k in range(1, 11):\n",
    "    kmeans = KMeans(n_clusters=k, **kmeans_kwargs)\n",
    "    kmeans.fit(scaled_features)\n",
    "    sse.append(kmeans.inertia_)"
   ]
  },
  {
   "cell_type": "code",
   "execution_count": 13,
   "metadata": {},
   "outputs": [
    {
     "data": {
      "image/png": "[encoded data removed]",
      "text/plain": [
       "<Figure size 432x288 with 1 Axes>"
      ]
     },
     "metadata": {
      "needs_background": "light"
     },
     "output_type": "display_data"
    }
   ],
   "source": [
    "from sklearn.cluster import KMeans\n",
    "import matplotlib.pyplot as plt\n",
    "\n",
    "#Elbow Method - Inertia plot\n",
    "inertia = []\n",
    "#looping the inertia calculation for each k\n",
    "for k in range(1, 10):\n",
    "    #Assign KMeans as cluster_model\n",
    "    cluster_model = KMeans(n_clusters = k, random_state = 24)\n",
    "    #Fit cluster_model to X\n",
    "    cluster_model.fit(data[Column.jumlah].values.reshape(-1, 1))\n",
    "    #Get the inertia value\n",
    "    inertia_value = cluster_model.inertia_\n",
    "    #Append the inertia_value to inertia list\n",
    "    inertia.append(inertia_value)\n",
    "##Inertia plot\n",
    "plt.plot(range(1, 10), inertia)\n",
    "plt.title('The Elbow Method - Inertia plot', fontsize = 20)\n",
    "plt.xlabel('No. of Clusters')\n",
    "plt.ylabel('WCSS')\n",
    "plt.show()"
   ]
  },
  {
   "cell_type": "code",
   "execution_count": 14,
   "metadata": {},
   "outputs": [
    {
     "data": {
      "text/plain": [
       "3"
      ]
     },
     "execution_count": 14,
     "metadata": {},
     "output_type": "execute_result"
    }
   ],
   "source": [
    "kl = KneeLocator(\n",
    "    range(1, 11), sse, curve=\"convex\", direction=\"decreasing\"\n",
    ")\n",
    "\n",
    "kl.elbow"
   ]
  },
  {
   "attachments": {},
   "cell_type": "markdown",
   "metadata": {},
   "source": [
    "> Menggunakan library kneed untuk mencari elbow dan mendapatkan hasil k = 3."
   ]
  },
  {
   "cell_type": "code",
   "execution_count": 15,
   "metadata": {},
   "outputs": [
    {
     "name": "stdout",
     "output_type": "stream",
     "text": [
      "Execution time: 0.20503616333007812 seconds\n",
      "Memory: (99505, 1997365)\n"
     ]
    }
   ],
   "source": [
    "# starting the memory and execution time monitoring\n",
    "tracemalloc.start()\n",
    "st = time.time()\n",
    "\n",
    "kmeans = KMeans(\n",
    "    init=\"random\",\n",
    "    n_clusters=3,\n",
    "    n_init=10,\n",
    "    max_iter=100,\n",
    "    random_state=42\n",
    ")\n",
    "\n",
    "kmeans.fit(scaled_features)\n",
    "# get the end execution time\n",
    "et = time.time()\n",
    "\n",
    "# displaying the memory\n",
    "print('Execution time:', et - st, 'seconds')\n",
    "print('Memory:', tracemalloc.get_traced_memory())\n",
    " \n",
    "# stopping the library\n",
    "tracemalloc.stop()\n",
    "\n",
    "pred = kmeans.fit_predict(scaled_features)\n",
    "data['K-means'] = pred\n"
   ]
  },
  {
   "cell_type": "code",
   "execution_count": 16,
   "metadata": {},
   "outputs": [
    {
     "data": {
      "text/plain": [
       "3543.6980179343414"
      ]
     },
     "execution_count": 16,
     "metadata": {},
     "output_type": "execute_result"
    }
   ],
   "source": [
    "kmeans.inertia_"
   ]
  },
  {
   "cell_type": "code",
   "execution_count": 17,
   "metadata": {},
   "outputs": [
    {
     "data": {
      "text/plain": [
       "array([[ 1.59240022],\n",
       "       [ 4.85854532],\n",
       "       [-0.28374749]])"
      ]
     },
     "execution_count": 17,
     "metadata": {},
     "output_type": "execute_result"
    }
   ],
   "source": [
    "kmeans.cluster_centers_"
   ]
  },
  {
   "cell_type": "code",
   "execution_count": 18,
   "metadata": {},
   "outputs": [
    {
     "data": {
      "text/plain": [
       "17"
      ]
     },
     "execution_count": 18,
     "metadata": {},
     "output_type": "execute_result"
    }
   ],
   "source": [
    "kmeans.n_iter_"
   ]
  },
  {
   "cell_type": "code",
   "execution_count": 19,
   "metadata": {},
   "outputs": [
    {
     "data": {
      "text/plain": [
       "array([2, 2, 2, 2, 2], dtype=int32)"
      ]
     },
     "execution_count": 19,
     "metadata": {},
     "output_type": "execute_result"
    }
   ],
   "source": [
    "kmeans.labels_[:5]"
   ]
  },
  {
   "cell_type": "code",
   "execution_count": 20,
   "metadata": {},
   "outputs": [
    {
     "name": "stderr",
     "output_type": "stream",
     "text": [
      "/Users/abimanyu/opt/anaconda3/lib/python3.9/site-packages/plotly/express/_core.py:1637: FutureWarning:\n",
      "\n",
      "The frame.append method is deprecated and will be removed from pandas in a future version. Use pandas.concat instead.\n",
      "\n",
      "/Users/abimanyu/opt/anaconda3/lib/python3.9/site-packages/plotly/express/_core.py:1637: FutureWarning:\n",
      "\n",
      "The frame.append method is deprecated and will be removed from pandas in a future version. Use pandas.concat instead.\n",
      "\n"
     ]
    },
    {
     "data": {
      "application/vnd.plotly.v1+json": {
       "config": {
        "plotlyServerURL": "https://plot.ly"
       },
       "data": [
        {
         "branchvalues": "total",
         "domain": {
          "x": [
           0,
           1
          ],
          "y": [
           0,
           1
          ]
         },
         "hovertemplate": "labels=%{label}<br>jumlah=%{value}<br>parent=%{parent}<br>id=%{id}<extra></extra>",
         "ids": [
          "0/ANCOL",
          "1/ANCOL",
          "2/ANCOL",
          "0/ANGKE",
          "2/ANGKE",
          "0/BALE KAMBANG",
          "2/BALE KAMBANG",
          "0/BALI MESTER",
          "2/BALI MESTER",
          "0/BAMBU APUS",
          "1/BAMBU APUS",
          "2/BAMBU APUS",
          "0/BANGKA",
          "2/BANGKA",
          "0/BARU",
          "2/BARU",
          "0/BATU AMPAR",
          "1/BATU AMPAR",
          "2/BATU AMPAR",
          "0/BENDUNGAN HILIR",
          "2/BENDUNGAN HILIR",
          "0/BIDARA CINA",
          "2/BIDARA CINA",
          "0/BINTARO",
          "1/BINTARO",
          "2/BINTARO",
          "0/BUKIT DURI",
          "2/BUKIT DURI",
          "0/BUNGUR",
          "2/BUNGUR",
          "0/CAKUNG BARAT",
          "2/CAKUNG BARAT",
          "0/CAKUNG TIMUR",
          "1/CAKUNG TIMUR",
          "2/CAKUNG TIMUR",
          "0/CAWANG",
          "2/CAWANG",
          "0/CEGER",
          "2/CEGER",
          "0/CEMPAKA BARU",
          "2/CEMPAKA BARU",
          "0/CEMPAKA PUTIH BARAT",
          "1/CEMPAKA PUTIH BARAT",
          "2/CEMPAKA PUTIH BARAT",
          "0/CEMPAKA PUTIH TIMUR",
          "1/CEMPAKA PUTIH TIMUR",
          "2/CEMPAKA PUTIH TIMUR",
          "0/CENGKARENG BARAT",
          "1/CENGKARENG BARAT",
          "2/CENGKARENG BARAT",
          "0/CENGKARENG TIMUR",
          "1/CENGKARENG TIMUR",
          "2/CENGKARENG TIMUR",
          "0/CIBUBUR",
          "1/CIBUBUR",
          "2/CIBUBUR",
          "0/CIDENG",
          "2/CIDENG",
          "0/CIGANJUR",
          "1/CIGANJUR",
          "2/CIGANJUR",
          "0/CIJANTUNG",
          "1/CIJANTUNG",
          "2/CIJANTUNG",
          "0/CIKINI",
          "2/CIKINI",
          "0/CIKOKO",
          "2/CIKOKO",
          "0/CILANDAK BARAT",
          "1/CILANDAK BARAT",
          "2/CILANDAK BARAT",
          "0/CILANDAK TIMUR",
          "1/CILANDAK TIMUR",
          "2/CILANDAK TIMUR",
          "0/CILANGKAP",
          "1/CILANGKAP",
          "2/CILANGKAP",
          "0/CILILITAN",
          "1/CILILITAN",
          "2/CILILITAN",
          "0/CILINCING",
          "2/CILINCING",
          "0/CIPAYUNG",
          "1/CIPAYUNG",
          "2/CIPAYUNG",
          "0/CIPEDAK",
          "1/CIPEDAK",
          "2/CIPEDAK",
          "0/CIPETE SELATAN",
          "1/CIPETE SELATAN",
          "2/CIPETE SELATAN",
          "0/CIPETE UTARA",
          "1/CIPETE UTARA",
          "2/CIPETE UTARA",
          "0/CIPINANG",
          "1/CIPINANG",
          "2/CIPINANG",
          "0/CIPINANG BESAR SELATAN",
          "2/CIPINANG BESAR SELATAN",
          "0/CIPINANG BESAR UTARA",
          "2/CIPINANG BESAR UTARA",
          "0/CIPINANG CEMPEDAK",
          "2/CIPINANG CEMPEDAK",
          "0/CIPINANG MELAYU",
          "1/CIPINANG MELAYU",
          "2/CIPINANG MELAYU",
          "0/CIPINANG MUARA",
          "1/CIPINANG MUARA",
          "2/CIPINANG MUARA",
          "0/CIPULIR",
          "1/CIPULIR",
          "2/CIPULIR",
          "0/CIRACAS",
          "1/CIRACAS",
          "2/CIRACAS",
          "0/DUKUH",
          "2/DUKUH",
          "0/DUREN SAWIT",
          "1/DUREN SAWIT",
          "2/DUREN SAWIT",
          "0/DUREN TIGA",
          "1/DUREN TIGA",
          "2/DUREN TIGA",
          "0/DURI KEPA",
          "1/DURI KEPA",
          "2/DURI KEPA",
          "0/DURI KOSAMBI",
          "1/DURI KOSAMBI",
          "2/DURI KOSAMBI",
          "0/DURI PULO",
          "2/DURI PULO",
          "0/DURI SELATAN",
          "2/DURI SELATAN",
          "0/DURI UTARA",
          "2/DURI UTARA",
          "0/GALUR",
          "2/GALUR",
          "0/GAMBIR",
          "2/GAMBIR",
          "0/GANDARIA SELATAN",
          "2/GANDARIA SELATAN",
          "0/GANDARIA UTARA",
          "1/GANDARIA UTARA",
          "2/GANDARIA UTARA",
          "0/GEDONG",
          "1/GEDONG",
          "2/GEDONG",
          "0/GELORA",
          "2/GELORA",
          "0/GLODOK",
          "2/GLODOK",
          "0/GONDANGDIA",
          "2/GONDANGDIA",
          "0/GROGOL",
          "1/GROGOL",
          "2/GROGOL",
          "0/GROGOL SELATAN",
          "1/GROGOL SELATAN",
          "2/GROGOL SELATAN",
          "0/GROGOL UTARA",
          "1/GROGOL UTARA",
          "2/GROGOL UTARA",
          "2/GUNTUR",
          "1/GUNUNG",
          "2/GUNUNG",
          "0/GUNUNG SAHARI SELATAN",
          "2/GUNUNG SAHARI SELATAN",
          "0/GUNUNG SAHARI UTARA",
          "2/GUNUNG SAHARI UTARA",
          "0/HALIM PERDANA KUSUMAH",
          "1/HALIM PERDANA KUSUMAH",
          "2/HALIM PERDANA KUSUMAH",
          "0/HARAPAN MULIA",
          "2/HARAPAN MULIA",
          "0/JAGAKARSA",
          "1/JAGAKARSA",
          "2/JAGAKARSA",
          "0/JATI",
          "1/JATI",
          "2/JATI",
          "0/JATI PADANG",
          "1/JATI PADANG",
          "2/JATI PADANG",
          "0/JATI PULO",
          "2/JATI PULO",
          "0/JATINEGARA",
          "1/JATINEGARA",
          "2/JATINEGARA",
          "0/JATINEGARA KAUM",
          "2/JATINEGARA KAUM",
          "0/JELAMBAR",
          "1/JELAMBAR",
          "2/JELAMBAR",
          "0/JELAMBAR BARU",
          "1/JELAMBAR BARU",
          "2/JELAMBAR BARU",
          "0/JEMBATAN BESI",
          "2/JEMBATAN BESI",
          "0/JEMBATAN LIMA",
          "2/JEMBATAN LIMA",
          "0/JOGLO",
          "1/JOGLO",
          "2/JOGLO",
          "0/JOHAR BARU",
          "1/JOHAR BARU",
          "2/JOHAR BARU",
          "0/KALI ANYAR",
          "2/KALI ANYAR",
          "0/KALI BARU",
          "1/KALI BARU",
          "2/KALI BARU",
          "0/KALIBATA",
          "1/KALIBATA",
          "2/KALIBATA",
          "0/KALIDERES",
          "1/KALIDERES",
          "2/KALIDERES",
          "0/KALISARI",
          "1/KALISARI",
          "2/KALISARI",
          "0/KAMAL",
          "2/KAMAL",
          "0/KAMAL MUARA",
          "2/KAMAL MUARA",
          "0/KAMPUNG BALI",
          "2/KAMPUNG BALI",
          "0/KAMPUNG MELAYU",
          "2/KAMPUNG MELAYU",
          "0/KAMPUNG RAWA",
          "2/KAMPUNG RAWA",
          "0/KAMPUNG TENGAH",
          "1/KAMPUNG TENGAH",
          "2/KAMPUNG TENGAH",
          "0/KAPUK",
          "1/KAPUK",
          "2/KAPUK",
          "0/KAPUK MUARA",
          "1/KAPUK MUARA",
          "2/KAPUK MUARA",
          "0/KARANG ANYAR",
          "2/KARANG ANYAR",
          "0/KARET",
          "2/KARET",
          "0/KARET KUNINGAN",
          "1/KARET KUNINGAN",
          "2/KARET KUNINGAN",
          "2/KARET SEMANGGI",
          "0/KARET TENGSIN",
          "2/KARET TENGSIN",
          "0/KARTINI",
          "2/KARTINI",
          "0/KAYU MANIS",
          "2/KAYU MANIS",
          "0/KAYU PUTIH",
          "1/KAYU PUTIH",
          "2/KAYU PUTIH",
          "0/KEAGUNGAN",
          "2/KEAGUNGAN",
          "0/KEBAGUSAN",
          "1/KEBAGUSAN",
          "2/KEBAGUSAN",
          "0/KEBAYORAN LAMA SELATAN",
          "1/KEBAYORAN LAMA SELATAN",
          "2/KEBAYORAN LAMA SELATAN",
          "0/KEBAYORAN LAMA UTARA",
          "1/KEBAYORAN LAMA UTARA",
          "2/KEBAYORAN LAMA UTARA",
          "0/KEBON BARU",
          "1/KEBON BARU",
          "2/KEBON BARU",
          "0/KEBON BAWANG",
          "1/KEBON BAWANG",
          "2/KEBON BAWANG",
          "0/KEBON JERUK",
          "1/KEBON JERUK",
          "2/KEBON JERUK",
          "0/KEBON KACANG",
          "2/KEBON KACANG",
          "0/KEBON KELAPA",
          "2/KEBON KELAPA",
          "0/KEBON KOSONG",
          "1/KEBON KOSONG",
          "2/KEBON KOSONG",
          "0/KEBON MANGGIS",
          "2/KEBON MANGGIS",
          "0/KEBON MELATI",
          "2/KEBON MELATI",
          "0/KEBON PALA",
          "1/KEBON PALA",
          "2/KEBON PALA",
          "0/KEBON SIRIH",
          "2/KEBON SIRIH",
          "0/KEDAUNG KALI ANGKE",
          "2/KEDAUNG KALI ANGKE",
          "0/KEDOYA SELATAN",
          "1/KEDOYA SELATAN",
          "2/KEDOYA SELATAN",
          "0/KEDOYA UTARA",
          "1/KEDOYA UTARA",
          "2/KEDOYA UTARA",
          "0/KELAPA DUA",
          "2/KELAPA DUA",
          "0/KELAPA DUA WETAN",
          "1/KELAPA DUA WETAN",
          "2/KELAPA DUA WETAN",
          "0/KELAPA GADING BARAT",
          "1/KELAPA GADING BARAT",
          "2/KELAPA GADING BARAT",
          "0/KELAPA GADING TIMUR",
          "1/KELAPA GADING TIMUR",
          "2/KELAPA GADING TIMUR",
          "0/KEMANGGISAN",
          "1/KEMANGGISAN",
          "2/KEMANGGISAN",
          "0/KEMAYORAN",
          "1/KEMAYORAN",
          "2/KEMAYORAN",
          "0/KEMBANGAN SELATAN",
          "1/KEMBANGAN SELATAN",
          "2/KEMBANGAN SELATAN",
          "0/KEMBANGAN UTARA",
          "1/KEMBANGAN UTARA",
          "2/KEMBANGAN UTARA",
          "0/KENARI",
          "2/KENARI",
          "0/KERENDANG",
          "2/KERENDANG",
          "0/KLENDER",
          "1/KLENDER",
          "2/KLENDER",
          "0/KOJA",
          "2/KOJA",
          "0/KOTA BAMBU SELATAN",
          "2/KOTA BAMBU SELATAN",
          "0/KOTA BAMBU UTARA",
          "2/KOTA BAMBU UTARA",
          "0/KRAMAT",
          "2/KRAMAT",
          "0/KRAMAT JATI",
          "2/KRAMAT JATI",
          "0/KRAMAT PELA",
          "2/KRAMAT PELA",
          "0/KRUKUT",
          "2/KRUKUT",
          "0/KUNINGAN BARAT",
          "2/KUNINGAN BARAT",
          "0/KUNINGAN TIMUR",
          "2/KUNINGAN TIMUR",
          "0/KWITANG",
          "2/KWITANG",
          "0/LAGOA",
          "1/LAGOA",
          "2/LAGOA",
          "0/LEBAK BULUS",
          "1/LEBAK BULUS",
          "2/LEBAK BULUS",
          "0/LENTENG AGUNG",
          "1/LENTENG AGUNG",
          "2/LENTENG AGUNG",
          "0/LUBANG BUAYA",
          "1/LUBANG BUAYA",
          "2/LUBANG BUAYA",
          "0/MAKASAR",
          "2/MAKASAR",
          "0/MALAKA JAYA",
          "2/MALAKA JAYA",
          "0/MALAKA SARI",
          "2/MALAKA SARI",
          "0/MAMPANG PRAPATAN",
          "2/MAMPANG PRAPATAN",
          "2/MANGGA BESAR",
          "0/MANGGA DUA SELATAN",
          "1/MANGGA DUA SELATAN",
          "2/MANGGA DUA SELATAN",
          "0/MANGGARAI",
          "2/MANGGARAI",
          "0/MANGGARAI SELATAN",
          "2/MANGGARAI SELATAN",
          "0/MAPHAR",
          "2/MAPHAR",
          "0/MARUNDA",
          "2/MARUNDA",
          "0/MELAWAI",
          "2/MELAWAI",
          "0/MENTENG",
          "1/MENTENG",
          "2/MENTENG",
          "0/MENTENG ATAS",
          "1/MENTENG ATAS",
          "2/MENTENG ATAS",
          "0/MENTENG DALAM",
          "1/MENTENG DALAM",
          "2/MENTENG DALAM",
          "0/MERUYA SELATAN",
          "1/MERUYA SELATAN",
          "2/MERUYA SELATAN",
          "0/MERUYA UTARA",
          "1/MERUYA UTARA",
          "2/MERUYA UTARA",
          "0/MUNJUL",
          "2/MUNJUL",
          "0/PADEMANGAN BARAT",
          "1/PADEMANGAN BARAT",
          "2/PADEMANGAN BARAT",
          "0/PADEMANGAN TIMUR",
          "1/PADEMANGAN TIMUR",
          "2/PADEMANGAN TIMUR",
          "0/PAL MERIAM",
          "2/PAL MERIAM",
          "0/PALMERAH",
          "1/PALMERAH",
          "2/PALMERAH",
          "0/PANCORAN",
          "2/PANCORAN",
          "0/PAPANGGO",
          "2/PAPANGGO",
          "0/PASAR BARU",
          "2/PASAR BARU",
          "0/PASAR MANGGIS",
          "2/PASAR MANGGIS",
          "0/PASAR MINGGU",
          "1/PASAR MINGGU",
          "2/PASAR MINGGU",
          "0/PASEBAN",
          "2/PASEBAN",
          "0/PEGADUNGAN",
          "1/PEGADUNGAN",
          "2/PEGADUNGAN",
          "0/PEGANGSAAN",
          "2/PEGANGSAAN",
          "0/PEGANGSAAN DUA",
          "1/PEGANGSAAN DUA",
          "2/PEGANGSAAN DUA",
          "0/PEJAGALAN",
          "1/PEJAGALAN",
          "2/PEJAGALAN",
          "0/PEJATEN BARAT",
          "1/PEJATEN BARAT",
          "2/PEJATEN BARAT",
          "0/PEJATEN TIMUR",
          "1/PEJATEN TIMUR",
          "2/PEJATEN TIMUR",
          "0/PEKAYON",
          "1/PEKAYON",
          "2/PEKAYON",
          "0/PEKOJAN",
          "2/PEKOJAN",
          "0/PELA MAMPANG",
          "1/PELA MAMPANG",
          "2/PELA MAMPANG",
          "0/PENGADEGAN",
          "2/PENGADEGAN",
          "0/PENGGILINGAN",
          "1/PENGGILINGAN",
          "2/PENGGILINGAN",
          "0/PENJARINGAN",
          "1/PENJARINGAN",
          "2/PENJARINGAN",
          "0/PESANGGRAHAN",
          "1/PESANGGRAHAN",
          "2/PESANGGRAHAN",
          "0/PETAMBURAN",
          "2/PETAMBURAN",
          "0/PETOGOGAN",
          "2/PETOGOGAN",
          "0/PETOJO SELATAN",
          "2/PETOJO SELATAN",
          "0/PETOJO UTARA",
          "2/PETOJO UTARA",
          "0/PETUKANGAN SELATAN",
          "1/PETUKANGAN SELATAN",
          "2/PETUKANGAN SELATAN",
          "0/PETUKANGAN UTARA",
          "1/PETUKANGAN UTARA",
          "2/PETUKANGAN UTARA",
          "0/PINANG RANTI",
          "2/PINANG RANTI",
          "0/PINANGSIA",
          "2/PINANGSIA",
          "0/PISANGAN BARU",
          "2/PISANGAN BARU",
          "0/PISANGAN TIMUR",
          "1/PISANGAN TIMUR",
          "2/PISANGAN TIMUR",
          "0/PLUIT",
          "1/PLUIT",
          "2/PLUIT",
          "0/PONDOK BAMBU",
          "1/PONDOK BAMBU",
          "2/PONDOK BAMBU",
          "0/PONDOK KELAPA",
          "1/PONDOK KELAPA",
          "2/PONDOK KELAPA",
          "0/PONDOK KOPI",
          "2/PONDOK KOPI",
          "0/PONDOK LABU",
          "1/PONDOK LABU",
          "2/PONDOK LABU",
          "0/PONDOK PINANG",
          "1/PONDOK PINANG",
          "2/PONDOK PINANG",
          "0/PONDOK RANGGON",
          "2/PONDOK RANGGON",
          "2/PULAU HARAPAN",
          "2/PULAU KELAPA",
          "2/PULAU PANGGANG",
          "2/PULAU PARI",
          "2/PULAU TIDUNG",
          "2/PULAU UNTUNG JAWA",
          "0/PULO",
          "2/PULO",
          "0/PULO GADUNG",
          "1/PULO GADUNG",
          "2/PULO GADUNG",
          "0/PULO GEBANG",
          "1/PULO GEBANG",
          "2/PULO GEBANG",
          "0/RAGUNAN",
          "1/RAGUNAN",
          "2/RAGUNAN",
          "0/RAMBUTAN",
          "2/RAMBUTAN",
          "0/RAWA BADAK SELATAN",
          "2/RAWA BADAK SELATAN",
          "0/RAWA BADAK UTARA",
          "2/RAWA BADAK UTARA",
          "0/RAWA BARAT",
          "2/RAWA BARAT",
          "0/RAWA BUAYA",
          "1/RAWA BUAYA",
          "2/RAWA BUAYA",
          "0/RAWA BUNGA",
          "2/RAWA BUNGA",
          "0/RAWA JATI",
          "2/RAWA JATI",
          "0/RAWA TERATE",
          "2/RAWA TERATE",
          "0/RAWAMANGUN",
          "1/RAWAMANGUN",
          "2/RAWAMANGUN",
          "0/RAWASARI",
          "1/RAWASARI",
          "2/RAWASARI",
          "2/ROA MALAKA",
          "0/ROROTAN",
          "2/ROROTAN",
          "0/SELONG",
          "2/SELONG",
          "0/SEMANAN",
          "1/SEMANAN",
          "2/SEMANAN",
          "0/SEMPER BARAT",
          "1/SEMPER BARAT",
          "2/SEMPER BARAT",
          "0/SEMPER TIMUR",
          "2/SEMPER TIMUR",
          "0/SENAYAN",
          "2/SENAYAN",
          "0/SENEN",
          "2/SENEN",
          "0/SERDANG",
          "2/SERDANG",
          "0/SETIA BUDI",
          "2/SETIA BUDI",
          "0/SETU",
          "2/SETU",
          "0/SLIPI",
          "2/SLIPI",
          "0/SRENGSENG",
          "1/SRENGSENG",
          "2/SRENGSENG",
          "0/SRENGSENG SAWAH",
          "1/SRENGSENG SAWAH",
          "2/SRENGSENG SAWAH",
          "0/SUKABUMI SELATAN",
          "2/SUKABUMI SELATAN",
          "0/SUKABUMI UTARA",
          "2/SUKABUMI UTARA",
          "0/SUKAPURA",
          "1/SUKAPURA",
          "2/SUKAPURA",
          "0/SUMUR BATU",
          "2/SUMUR BATU",
          "0/SUNGAI BAMBU",
          "2/SUNGAI BAMBU",
          "0/SUNTER AGUNG",
          "1/SUNTER AGUNG",
          "2/SUNTER AGUNG",
          "0/SUNTER JAYA",
          "1/SUNTER JAYA",
          "2/SUNTER JAYA",
          "0/SUSUKAN",
          "1/SUSUKAN",
          "2/SUSUKAN",
          "0/TAMAN SARI",
          "2/TAMAN SARI",
          "0/TAMBORA",
          "2/TAMBORA",
          "0/TANAH SEREAL",
          "2/TANAH SEREAL",
          "0/TANAH TINGGI",
          "1/TANAH TINGGI",
          "2/TANAH TINGGI",
          "0/TANGKI",
          "2/TANGKI",
          "0/TANJUNG BARAT",
          "1/TANJUNG BARAT",
          "2/TANJUNG BARAT",
          "0/TANJUNG DUREN SELATAN",
          "1/TANJUNG DUREN SELATAN",
          "2/TANJUNG DUREN SELATAN",
          "0/TANJUNG DUREN UTARA",
          "2/TANJUNG DUREN UTARA",
          "0/TANJUNG PRIOK",
          "2/TANJUNG PRIOK",
          "0/TEBET BARAT",
          "1/TEBET BARAT",
          "2/TEBET BARAT",
          "0/TEBET TIMUR",
          "2/TEBET TIMUR",
          "0/TEGAL ALUR",
          "1/TEGAL ALUR",
          "2/TEGAL ALUR",
          "0/TEGAL PARANG",
          "2/TEGAL PARANG",
          "0/TOMANG",
          "2/TOMANG",
          "0/TUGU SELATAN",
          "2/TUGU SELATAN",
          "0/TUGU UTARA",
          "1/TUGU UTARA",
          "2/TUGU UTARA",
          "0/UJUNG MENTENG",
          "2/UJUNG MENTENG",
          "0/ULUJAMI",
          "1/ULUJAMI",
          "2/ULUJAMI",
          "0/UTAN KAYU SELATAN",
          "1/UTAN KAYU SELATAN",
          "2/UTAN KAYU SELATAN",
          "0/UTAN KAYU UTARA",
          "2/UTAN KAYU UTARA",
          "0/UTAN PANJANG",
          "2/UTAN PANJANG",
          "0/WARAKAS",
          "1/WARAKAS",
          "2/WARAKAS",
          "0/WIJAYA KUSUMA",
          "2/WIJAYA KUSUMA",
          "0",
          "1",
          "2"
         ],
         "labels": [
          "ANCOL",
          "ANCOL",
          "ANCOL",
          "ANGKE",
          "ANGKE",
          "BALE KAMBANG",
          "BALE KAMBANG",
          "BALI MESTER",
          "BALI MESTER",
          "BAMBU APUS",
          "BAMBU APUS",
          "BAMBU APUS",
          "BANGKA",
          "BANGKA",
          "BARU",
          "BARU",
          "BATU AMPAR",
          "BATU AMPAR",
          "BATU AMPAR",
          "BENDUNGAN HILIR",
          "BENDUNGAN HILIR",
          "BIDARA CINA",
          "BIDARA CINA",
          "BINTARO",
          "BINTARO",
          "BINTARO",
          "BUKIT DURI",
          "BUKIT DURI",
          "BUNGUR",
          "BUNGUR",
          "CAKUNG BARAT",
          "CAKUNG BARAT",
          "CAKUNG TIMUR",
          "CAKUNG TIMUR",
          "CAKUNG TIMUR",
          "CAWANG",
          "CAWANG",
          "CEGER",
          "CEGER",
          "CEMPAKA BARU",
          "CEMPAKA BARU",
          "CEMPAKA PUTIH BARAT",
          "CEMPAKA PUTIH BARAT",
          "CEMPAKA PUTIH BARAT",
          "CEMPAKA PUTIH TIMUR",
          "CEMPAKA PUTIH TIMUR",
          "CEMPAKA PUTIH TIMUR",
          "CENGKARENG BARAT",
          "CENGKARENG BARAT",
          "CENGKARENG BARAT",
          "CENGKARENG TIMUR",
          "CENGKARENG TIMUR",
          "CENGKARENG TIMUR",
          "CIBUBUR",
          "CIBUBUR",
          "CIBUBUR",
          "CIDENG",
          "CIDENG",
          "CIGANJUR",
          "CIGANJUR",
          "CIGANJUR",
          "CIJANTUNG",
          "CIJANTUNG",
          "CIJANTUNG",
          "CIKINI",
          "CIKINI",
          "CIKOKO",
          "CIKOKO",
          "CILANDAK BARAT",
          "CILANDAK BARAT",
          "CILANDAK BARAT",
          "CILANDAK TIMUR",
          "CILANDAK TIMUR",
          "CILANDAK TIMUR",
          "CILANGKAP",
          "CILANGKAP",
          "CILANGKAP",
          "CILILITAN",
          "CILILITAN",
          "CILILITAN",
          "CILINCING",
          "CILINCING",
          "CIPAYUNG",
          "CIPAYUNG",
          "CIPAYUNG",
          "CIPEDAK",
          "CIPEDAK",
          "CIPEDAK",
          "CIPETE SELATAN",
          "CIPETE SELATAN",
          "CIPETE SELATAN",
          "CIPETE UTARA",
          "CIPETE UTARA",
          "CIPETE UTARA",
          "CIPINANG",
          "CIPINANG",
          "CIPINANG",
          "CIPINANG BESAR SELATAN",
          "CIPINANG BESAR SELATAN",
          "CIPINANG BESAR UTARA",
          "CIPINANG BESAR UTARA",
          "CIPINANG CEMPEDAK",
          "CIPINANG CEMPEDAK",
          "CIPINANG MELAYU",
          "CIPINANG MELAYU",
          "CIPINANG MELAYU",
          "CIPINANG MUARA",
          "CIPINANG MUARA",
          "CIPINANG MUARA",
          "CIPULIR",
          "CIPULIR",
          "CIPULIR",
          "CIRACAS",
          "CIRACAS",
          "CIRACAS",
          "DUKUH",
          "DUKUH",
          "DUREN SAWIT",
          "DUREN SAWIT",
          "DUREN SAWIT",
          "DUREN TIGA",
          "DUREN TIGA",
          "DUREN TIGA",
          "DURI KEPA",
          "DURI KEPA",
          "DURI KEPA",
          "DURI KOSAMBI",
          "DURI KOSAMBI",
          "DURI KOSAMBI",
          "DURI PULO",
          "DURI PULO",
          "DURI SELATAN",
          "DURI SELATAN",
          "DURI UTARA",
          "DURI UTARA",
          "GALUR",
          "GALUR",
          "GAMBIR",
          "GAMBIR",
          "GANDARIA SELATAN",
          "GANDARIA SELATAN",
          "GANDARIA UTARA",
          "GANDARIA UTARA",
          "GANDARIA UTARA",
          "GEDONG",
          "GEDONG",
          "GEDONG",
          "GELORA",
          "GELORA",
          "GLODOK",
          "GLODOK",
          "GONDANGDIA",
          "GONDANGDIA",
          "GROGOL",
          "GROGOL",
          "GROGOL",
          "GROGOL SELATAN",
          "GROGOL SELATAN",
          "GROGOL SELATAN",
          "GROGOL UTARA",
          "GROGOL UTARA",
          "GROGOL UTARA",
          "GUNTUR",
          "GUNUNG",
          "GUNUNG",
          "GUNUNG SAHARI SELATAN",
          "GUNUNG SAHARI SELATAN",
          "GUNUNG SAHARI UTARA",
          "GUNUNG SAHARI UTARA",
          "HALIM PERDANA KUSUMAH",
          "HALIM PERDANA KUSUMAH",
          "HALIM PERDANA KUSUMAH",
          "HARAPAN MULIA",
          "HARAPAN MULIA",
          "JAGAKARSA",
          "JAGAKARSA",
          "JAGAKARSA",
          "JATI",
          "JATI",
          "JATI",
          "JATI PADANG",
          "JATI PADANG",
          "JATI PADANG",
          "JATI PULO",
          "JATI PULO",
          "JATINEGARA",
          "JATINEGARA",
          "JATINEGARA",
          "JATINEGARA KAUM",
          "JATINEGARA KAUM",
          "JELAMBAR",
          "JELAMBAR",
          "JELAMBAR",
          "JELAMBAR BARU",
          "JELAMBAR BARU",
          "JELAMBAR BARU",
          "JEMBATAN BESI",
          "JEMBATAN BESI",
          "JEMBATAN LIMA",
          "JEMBATAN LIMA",
          "JOGLO",
          "JOGLO",
          "JOGLO",
          "JOHAR BARU",
          "JOHAR BARU",
          "JOHAR BARU",
          "KALI ANYAR",
          "KALI ANYAR",
          "KALI BARU",
          "KALI BARU",
          "KALI BARU",
          "KALIBATA",
          "KALIBATA",
          "KALIBATA",
          "KALIDERES",
          "KALIDERES",
          "KALIDERES",
          "KALISARI",
          "KALISARI",
          "KALISARI",
          "KAMAL",
          "KAMAL",
          "KAMAL MUARA",
          "KAMAL MUARA",
          "KAMPUNG BALI",
          "KAMPUNG BALI",
          "KAMPUNG MELAYU",
          "KAMPUNG MELAYU",
          "KAMPUNG RAWA",
          "KAMPUNG RAWA",
          "KAMPUNG TENGAH",
          "KAMPUNG TENGAH",
          "KAMPUNG TENGAH",
          "KAPUK",
          "KAPUK",
          "KAPUK",
          "KAPUK MUARA",
          "KAPUK MUARA",
          "KAPUK MUARA",
          "KARANG ANYAR",
          "KARANG ANYAR",
          "KARET",
          "KARET",
          "KARET KUNINGAN",
          "KARET KUNINGAN",
          "KARET KUNINGAN",
          "KARET SEMANGGI",
          "KARET TENGSIN",
          "KARET TENGSIN",
          "KARTINI",
          "KARTINI",
          "KAYU MANIS",
          "KAYU MANIS",
          "KAYU PUTIH",
          "KAYU PUTIH",
          "KAYU PUTIH",
          "KEAGUNGAN",
          "KEAGUNGAN",
          "KEBAGUSAN",
          "KEBAGUSAN",
          "KEBAGUSAN",
          "KEBAYORAN LAMA SELATAN",
          "KEBAYORAN LAMA SELATAN",
          "KEBAYORAN LAMA SELATAN",
          "KEBAYORAN LAMA UTARA",
          "KEBAYORAN LAMA UTARA",
          "KEBAYORAN LAMA UTARA",
          "KEBON BARU",
          "KEBON BARU",
          "KEBON BARU",
          "KEBON BAWANG",
          "KEBON BAWANG",
          "KEBON BAWANG",
          "KEBON JERUK",
          "KEBON JERUK",
          "KEBON JERUK",
          "KEBON KACANG",
          "KEBON KACANG",
          "KEBON KELAPA",
          "KEBON KELAPA",
          "KEBON KOSONG",
          "KEBON KOSONG",
          "KEBON KOSONG",
          "KEBON MANGGIS",
          "KEBON MANGGIS",
          "KEBON MELATI",
          "KEBON MELATI",
          "KEBON PALA",
          "KEBON PALA",
          "KEBON PALA",
          "KEBON SIRIH",
          "KEBON SIRIH",
          "KEDAUNG KALI ANGKE",
          "KEDAUNG KALI ANGKE",
          "KEDOYA SELATAN",
          "KEDOYA SELATAN",
          "KEDOYA SELATAN",
          "KEDOYA UTARA",
          "KEDOYA UTARA",
          "KEDOYA UTARA",
          "KELAPA DUA",
          "KELAPA DUA",
          "KELAPA DUA WETAN",
          "KELAPA DUA WETAN",
          "KELAPA DUA WETAN",
          "KELAPA GADING BARAT",
          "KELAPA GADING BARAT",
          "KELAPA GADING BARAT",
          "KELAPA GADING TIMUR",
          "KELAPA GADING TIMUR",
          "KELAPA GADING TIMUR",
          "KEMANGGISAN",
          "KEMANGGISAN",
          "KEMANGGISAN",
          "KEMAYORAN",
          "KEMAYORAN",
          "KEMAYORAN",
          "KEMBANGAN SELATAN",
          "KEMBANGAN SELATAN",
          "KEMBANGAN SELATAN",
          "KEMBANGAN UTARA",
          "KEMBANGAN UTARA",
          "KEMBANGAN UTARA",
          "KENARI",
          "KENARI",
          "KERENDANG",
          "KERENDANG",
          "KLENDER",
          "KLENDER",
          "KLENDER",
          "KOJA",
          "KOJA",
          "KOTA BAMBU SELATAN",
          "KOTA BAMBU SELATAN",
          "KOTA BAMBU UTARA",
          "KOTA BAMBU UTARA",
          "KRAMAT",
          "KRAMAT",
          "KRAMAT JATI",
          "KRAMAT JATI",
          "KRAMAT PELA",
          "KRAMAT PELA",
          "KRUKUT",
          "KRUKUT",
          "KUNINGAN BARAT",
          "KUNINGAN BARAT",
          "KUNINGAN TIMUR",
          "KUNINGAN TIMUR",
          "KWITANG",
          "KWITANG",
          "LAGOA",
          "LAGOA",
          "LAGOA",
          "LEBAK BULUS",
          "LEBAK BULUS",
          "LEBAK BULUS",
          "LENTENG AGUNG",
          "LENTENG AGUNG",
          "LENTENG AGUNG",
          "LUBANG BUAYA",
          "LUBANG BUAYA",
          "LUBANG BUAYA",
          "MAKASAR",
          "MAKASAR",
          "MALAKA JAYA",
          "MALAKA JAYA",
          "MALAKA SARI",
          "MALAKA SARI",
          "MAMPANG PRAPATAN",
          "MAMPANG PRAPATAN",
          "MANGGA BESAR",
          "MANGGA DUA SELATAN",
          "MANGGA DUA SELATAN",
          "MANGGA DUA SELATAN",
          "MANGGARAI",
          "MANGGARAI",
          "MANGGARAI SELATAN",
          "MANGGARAI SELATAN",
          "MAPHAR",
          "MAPHAR",
          "MARUNDA",
          "MARUNDA",
          "MELAWAI",
          "MELAWAI",
          "MENTENG",
          "MENTENG",
          "MENTENG",
          "MENTENG ATAS",
          "MENTENG ATAS",
          "MENTENG ATAS",
          "MENTENG DALAM",
          "MENTENG DALAM",
          "MENTENG DALAM",
          "MERUYA SELATAN",
          "MERUYA SELATAN",
          "MERUYA SELATAN",
          "MERUYA UTARA",
          "MERUYA UTARA",
          "MERUYA UTARA",
          "MUNJUL",
          "MUNJUL",
          "PADEMANGAN BARAT",
          "PADEMANGAN BARAT",
          "PADEMANGAN BARAT",
          "PADEMANGAN TIMUR",
          "PADEMANGAN TIMUR",
          "PADEMANGAN TIMUR",
          "PAL MERIAM",
          "PAL MERIAM",
          "PALMERAH",
          "PALMERAH",
          "PALMERAH",
          "PANCORAN",
          "PANCORAN",
          "PAPANGGO",
          "PAPANGGO",
          "PASAR BARU",
          "PASAR BARU",
          "PASAR MANGGIS",
          "PASAR MANGGIS",
          "PASAR MINGGU",
          "PASAR MINGGU",
          "PASAR MINGGU",
          "PASEBAN",
          "PASEBAN",
          "PEGADUNGAN",
          "PEGADUNGAN",
          "PEGADUNGAN",
          "PEGANGSAAN",
          "PEGANGSAAN",
          "PEGANGSAAN DUA",
          "PEGANGSAAN DUA",
          "PEGANGSAAN DUA",
          "PEJAGALAN",
          "PEJAGALAN",
          "PEJAGALAN",
          "PEJATEN BARAT",
          "PEJATEN BARAT",
          "PEJATEN BARAT",
          "PEJATEN TIMUR",
          "PEJATEN TIMUR",
          "PEJATEN TIMUR",
          "PEKAYON",
          "PEKAYON",
          "PEKAYON",
          "PEKOJAN",
          "PEKOJAN",
          "PELA MAMPANG",
          "PELA MAMPANG",
          "PELA MAMPANG",
          "PENGADEGAN",
          "PENGADEGAN",
          "PENGGILINGAN",
          "PENGGILINGAN",
          "PENGGILINGAN",
          "PENJARINGAN",
          "PENJARINGAN",
          "PENJARINGAN",
          "PESANGGRAHAN",
          "PESANGGRAHAN",
          "PESANGGRAHAN",
          "PETAMBURAN",
          "PETAMBURAN",
          "PETOGOGAN",
          "PETOGOGAN",
          "PETOJO SELATAN",
          "PETOJO SELATAN",
          "PETOJO UTARA",
          "PETOJO UTARA",
          "PETUKANGAN SELATAN",
          "PETUKANGAN SELATAN",
          "PETUKANGAN SELATAN",
          "PETUKANGAN UTARA",
          "PETUKANGAN UTARA",
          "PETUKANGAN UTARA",
          "PINANG RANTI",
          "PINANG RANTI",
          "PINANGSIA",
          "PINANGSIA",
          "PISANGAN BARU",
          "PISANGAN BARU",
          "PISANGAN TIMUR",
          "PISANGAN TIMUR",
          "PISANGAN TIMUR",
          "PLUIT",
          "PLUIT",
          "PLUIT",
          "PONDOK BAMBU",
          "PONDOK BAMBU",
          "PONDOK BAMBU",
          "PONDOK KELAPA",
          "PONDOK KELAPA",
          "PONDOK KELAPA",
          "PONDOK KOPI",
          "PONDOK KOPI",
          "PONDOK LABU",
          "PONDOK LABU",
          "PONDOK LABU",
          "PONDOK PINANG",
          "PONDOK PINANG",
          "PONDOK PINANG",
          "PONDOK RANGGON",
          "PONDOK RANGGON",
          "PULAU HARAPAN",
          "PULAU KELAPA",
          "PULAU PANGGANG",
          "PULAU PARI",
          "PULAU TIDUNG",
          "PULAU UNTUNG JAWA",
          "PULO",
          "PULO",
          "PULO GADUNG",
          "PULO GADUNG",
          "PULO GADUNG",
          "PULO GEBANG",
          "PULO GEBANG",
          "PULO GEBANG",
          "RAGUNAN",
          "RAGUNAN",
          "RAGUNAN",
          "RAMBUTAN",
          "RAMBUTAN",
          "RAWA BADAK SELATAN",
          "RAWA BADAK SELATAN",
          "RAWA BADAK UTARA",
          "RAWA BADAK UTARA",
          "RAWA BARAT",
          "RAWA BARAT",
          "RAWA BUAYA",
          "RAWA BUAYA",
          "RAWA BUAYA",
          "RAWA BUNGA",
          "RAWA BUNGA",
          "RAWA JATI",
          "RAWA JATI",
          "RAWA TERATE",
          "RAWA TERATE",
          "RAWAMANGUN",
          "RAWAMANGUN",
          "RAWAMANGUN",
          "RAWASARI",
          "RAWASARI",
          "RAWASARI",
          "ROA MALAKA",
          "ROROTAN",
          "ROROTAN",
          "SELONG",
          "SELONG",
          "SEMANAN",
          "SEMANAN",
          "SEMANAN",
          "SEMPER BARAT",
          "SEMPER BARAT",
          "SEMPER BARAT",
          "SEMPER TIMUR",
          "SEMPER TIMUR",
          "SENAYAN",
          "SENAYAN",
          "SENEN",
          "SENEN",
          "SERDANG",
          "SERDANG",
          "SETIA BUDI",
          "SETIA BUDI",
          "SETU",
          "SETU",
          "SLIPI",
          "SLIPI",
          "SRENGSENG",
          "SRENGSENG",
          "SRENGSENG",
          "SRENGSENG SAWAH",
          "SRENGSENG SAWAH",
          "SRENGSENG SAWAH",
          "SUKABUMI SELATAN",
          "SUKABUMI SELATAN",
          "SUKABUMI UTARA",
          "SUKABUMI UTARA",
          "SUKAPURA",
          "SUKAPURA",
          "SUKAPURA",
          "SUMUR BATU",
          "SUMUR BATU",
          "SUNGAI BAMBU",
          "SUNGAI BAMBU",
          "SUNTER AGUNG",
          "SUNTER AGUNG",
          "SUNTER AGUNG",
          "SUNTER JAYA",
          "SUNTER JAYA",
          "SUNTER JAYA",
          "SUSUKAN",
          "SUSUKAN",
          "SUSUKAN",
          "TAMAN SARI",
          "TAMAN SARI",
          "TAMBORA",
          "TAMBORA",
          "TANAH SEREAL",
          "TANAH SEREAL",
          "TANAH TINGGI",
          "TANAH TINGGI",
          "TANAH TINGGI",
          "TANGKI",
          "TANGKI",
          "TANJUNG BARAT",
          "TANJUNG BARAT",
          "TANJUNG BARAT",
          "TANJUNG DUREN SELATAN",
          "TANJUNG DUREN SELATAN",
          "TANJUNG DUREN SELATAN",
          "TANJUNG DUREN UTARA",
          "TANJUNG DUREN UTARA",
          "TANJUNG PRIOK",
          "TANJUNG PRIOK",
          "TEBET BARAT",
          "TEBET BARAT",
          "TEBET BARAT",
          "TEBET TIMUR",
          "TEBET TIMUR",
          "TEGAL ALUR",
          "TEGAL ALUR",
          "TEGAL ALUR",
          "TEGAL PARANG",
          "TEGAL PARANG",
          "TOMANG",
          "TOMANG",
          "TUGU SELATAN",
          "TUGU SELATAN",
          "TUGU UTARA",
          "TUGU UTARA",
          "TUGU UTARA",
          "UJUNG MENTENG",
          "UJUNG MENTENG",
          "ULUJAMI",
          "ULUJAMI",
          "ULUJAMI",
          "UTAN KAYU SELATAN",
          "UTAN KAYU SELATAN",
          "UTAN KAYU SELATAN",
          "UTAN KAYU UTARA",
          "UTAN KAYU UTARA",
          "UTAN PANJANG",
          "UTAN PANJANG",
          "WARAKAS",
          "WARAKAS",
          "WARAKAS",
          "WIJAYA KUSUMA",
          "WIJAYA KUSUMA",
          "0",
          "1",
          "2"
         ],
         "name": "",
         "parents": [
          "0",
          "1",
          "2",
          "0",
          "2",
          "0",
          "2",
          "0",
          "2",
          "0",
          "1",
          "2",
          "0",
          "2",
          "0",
          "2",
          "0",
          "1",
          "2",
          "0",
          "2",
          "0",
          "2",
          "0",
          "1",
          "2",
          "0",
          "2",
          "0",
          "2",
          "0",
          "2",
          "0",
          "1",
          "2",
          "0",
          "2",
          "0",
          "2",
          "0",
          "2",
          "0",
          "1",
          "2",
          "0",
          "1",
          "2",
          "0",
          "1",
          "2",
          "0",
          "1",
          "2",
          "0",
          "1",
          "2",
          "0",
          "2",
          "0",
          "1",
          "2",
          "0",
          "1",
          "2",
          "0",
          "2",
          "0",
          "2",
          "0",
          "1",
          "2",
          "0",
          "1",
          "2",
          "0",
          "1",
          "2",
          "0",
          "1",
          "2",
          "0",
          "2",
          "0",
          "1",
          "2",
          "0",
          "1",
          "2",
          "0",
          "1",
          "2",
          "0",
          "1",
          "2",
          "0",
          "1",
          "2",
          "0",
          "2",
          "0",
          "2",
          "0",
          "2",
          "0",
          "1",
          "2",
          "0",
          "1",
          "2",
          "0",
          "1",
          "2",
          "0",
          "1",
          "2",
          "0",
          "2",
          "0",
          "1",
          "2",
          "0",
          "1",
          "2",
          "0",
          "1",
          "2",
          "0",
          "1",
          "2",
          "0",
          "2",
          "0",
          "2",
          "0",
          "2",
          "0",
          "2",
          "0",
          "2",
          "0",
          "2",
          "0",
          "1",
          "2",
          "0",
          "1",
          "2",
          "0",
          "2",
          "0",
          "2",
          "0",
          "2",
          "0",
          "1",
          "2",
          "0",
          "1",
          "2",
          "0",
          "1",
          "2",
          "2",
          "1",
          "2",
          "0",
          "2",
          "0",
          "2",
          "0",
          "1",
          "2",
          "0",
          "2",
          "0",
          "1",
          "2",
          "0",
          "1",
          "2",
          "0",
          "1",
          "2",
          "0",
          "2",
          "0",
          "1",
          "2",
          "0",
          "2",
          "0",
          "1",
          "2",
          "0",
          "1",
          "2",
          "0",
          "2",
          "0",
          "2",
          "0",
          "1",
          "2",
          "0",
          "1",
          "2",
          "0",
          "2",
          "0",
          "1",
          "2",
          "0",
          "1",
          "2",
          "0",
          "1",
          "2",
          "0",
          "1",
          "2",
          "0",
          "2",
          "0",
          "2",
          "0",
          "2",
          "0",
          "2",
          "0",
          "2",
          "0",
          "1",
          "2",
          "0",
          "1",
          "2",
          "0",
          "1",
          "2",
          "0",
          "2",
          "0",
          "2",
          "0",
          "1",
          "2",
          "2",
          "0",
          "2",
          "0",
          "2",
          "0",
          "2",
          "0",
          "1",
          "2",
          "0",
          "2",
          "0",
          "1",
          "2",
          "0",
          "1",
          "2",
          "0",
          "1",
          "2",
          "0",
          "1",
          "2",
          "0",
          "1",
          "2",
          "0",
          "1",
          "2",
          "0",
          "2",
          "0",
          "2",
          "0",
          "1",
          "2",
          "0",
          "2",
          "0",
          "2",
          "0",
          "1",
          "2",
          "0",
          "2",
          "0",
          "2",
          "0",
          "1",
          "2",
          "0",
          "1",
          "2",
          "0",
          "2",
          "0",
          "1",
          "2",
          "0",
          "1",
          "2",
          "0",
          "1",
          "2",
          "0",
          "1",
          "2",
          "0",
          "1",
          "2",
          "0",
          "1",
          "2",
          "0",
          "1",
          "2",
          "0",
          "2",
          "0",
          "2",
          "0",
          "1",
          "2",
          "0",
          "2",
          "0",
          "2",
          "0",
          "2",
          "0",
          "2",
          "0",
          "2",
          "0",
          "2",
          "0",
          "2",
          "0",
          "2",
          "0",
          "2",
          "0",
          "2",
          "0",
          "1",
          "2",
          "0",
          "1",
          "2",
          "0",
          "1",
          "2",
          "0",
          "1",
          "2",
          "0",
          "2",
          "0",
          "2",
          "0",
          "2",
          "0",
          "2",
          "2",
          "0",
          "1",
          "2",
          "0",
          "2",
          "0",
          "2",
          "0",
          "2",
          "0",
          "2",
          "0",
          "2",
          "0",
          "1",
          "2",
          "0",
          "1",
          "2",
          "0",
          "1",
          "2",
          "0",
          "1",
          "2",
          "0",
          "1",
          "2",
          "0",
          "2",
          "0",
          "1",
          "2",
          "0",
          "1",
          "2",
          "0",
          "2",
          "0",
          "1",
          "2",
          "0",
          "2",
          "0",
          "2",
          "0",
          "2",
          "0",
          "2",
          "0",
          "1",
          "2",
          "0",
          "2",
          "0",
          "1",
          "2",
          "0",
          "2",
          "0",
          "1",
          "2",
          "0",
          "1",
          "2",
          "0",
          "1",
          "2",
          "0",
          "1",
          "2",
          "0",
          "1",
          "2",
          "0",
          "2",
          "0",
          "1",
          "2",
          "0",
          "2",
          "0",
          "1",
          "2",
          "0",
          "1",
          "2",
          "0",
          "1",
          "2",
          "0",
          "2",
          "0",
          "2",
          "0",
          "2",
          "0",
          "2",
          "0",
          "1",
          "2",
          "0",
          "1",
          "2",
          "0",
          "2",
          "0",
          "2",
          "0",
          "2",
          "0",
          "1",
          "2",
          "0",
          "1",
          "2",
          "0",
          "1",
          "2",
          "0",
          "1",
          "2",
          "0",
          "2",
          "0",
          "1",
          "2",
          "0",
          "1",
          "2",
          "0",
          "2",
          "2",
          "2",
          "2",
          "2",
          "2",
          "2",
          "0",
          "2",
          "0",
          "1",
          "2",
          "0",
          "1",
          "2",
          "0",
          "1",
          "2",
          "0",
          "2",
          "0",
          "2",
          "0",
          "2",
          "0",
          "2",
          "0",
          "1",
          "2",
          "0",
          "2",
          "0",
          "2",
          "0",
          "2",
          "0",
          "1",
          "2",
          "0",
          "1",
          "2",
          "2",
          "0",
          "2",
          "0",
          "2",
          "0",
          "1",
          "2",
          "0",
          "1",
          "2",
          "0",
          "2",
          "0",
          "2",
          "0",
          "2",
          "0",
          "2",
          "0",
          "2",
          "0",
          "2",
          "0",
          "2",
          "0",
          "1",
          "2",
          "0",
          "1",
          "2",
          "0",
          "2",
          "0",
          "2",
          "0",
          "1",
          "2",
          "0",
          "2",
          "0",
          "2",
          "0",
          "1",
          "2",
          "0",
          "1",
          "2",
          "0",
          "1",
          "2",
          "0",
          "2",
          "0",
          "2",
          "0",
          "2",
          "0",
          "1",
          "2",
          "0",
          "2",
          "0",
          "1",
          "2",
          "0",
          "1",
          "2",
          "0",
          "2",
          "0",
          "2",
          "0",
          "1",
          "2",
          "0",
          "2",
          "0",
          "1",
          "2",
          "0",
          "2",
          "0",
          "2",
          "0",
          "2",
          "0",
          "1",
          "2",
          "0",
          "2",
          "0",
          "1",
          "2",
          "0",
          "1",
          "2",
          "0",
          "2",
          "0",
          "2",
          "0",
          "1",
          "2",
          "0",
          "2",
          "",
          "",
          ""
         ],
         "type": "treemap",
         "values": [
          23781,
          43005,
          12656,
          22046,
          19829,
          37909,
          12571,
          2494,
          17355,
          58029,
          8855,
          6472,
          46274,
          13408,
          48930,
          6250,
          38329,
          44875,
          8187,
          46498,
          13864,
          59444,
          5978,
          39529,
          62900,
          9480,
          41404,
          14057,
          15564,
          17987,
          39252,
          12608,
          53133,
          8949,
          5616,
          63054,
          5706,
          30937,
          11430,
          60538,
          5117,
          45561,
          47019,
          8184,
          37912,
          46615,
          8256,
          21985,
          107307,
          9525,
          23623,
          104686,
          9595,
          23410,
          101806,
          11142,
          34964,
          10217,
          34873,
          45481,
          6535,
          31485,
          40577,
          6920,
          5143,
          16228,
          11600,
          12982,
          21309,
          132677,
          13841,
          43715,
          18035,
          6505,
          62233,
          8926,
          6243,
          55456,
          18175,
          6759,
          57051,
          5163,
          44230,
          45298,
          8072,
          29774,
          44982,
          5757,
          29855,
          47146,
          18180,
          33624,
          27718,
          5294,
          53521,
          18050,
          6852,
          53918,
          5271,
          55898,
          4236,
          55932,
          5839,
          52402,
          18910,
          7421,
          48376,
          49269,
          9222,
          39506,
          18378,
          4888,
          22694,
          98715,
          9937,
          41338,
          12564,
          21316,
          100537,
          12382,
          40441,
          8853,
          15714,
          41352,
          57919,
          10448,
          49222,
          55156,
          8441,
          27054,
          7907,
          12649,
          10608,
          16857,
          14270,
          14301,
          16185,
          34216,
          11279,
          37367,
          11787,
          29442,
          42974,
          6503,
          36909,
          27950,
          6099,
          2462,
          16450,
          2477,
          23609,
          26986,
          11760,
          45603,
          9069,
          15143,
          26792,
          46242,
          7780,
          27254,
          44625,
          8053,
          12669,
          83202,
          16248,
          39671,
          17303,
          33917,
          11098,
          47876,
          38355,
          11528,
          34856,
          11447,
          55311,
          72267,
          10469,
          31754,
          40755,
          8983,
          31743,
          43406,
          7319,
          36848,
          10560,
          42948,
          49091,
          6645,
          27130,
          9393,
          57370,
          8846,
          6136,
          53602,
          8907,
          5790,
          19070,
          17678,
          15388,
          14622,
          30682,
          40582,
          6177,
          49223,
          43137,
          7037,
          14751,
          13766,
          36399,
          9010,
          12020,
          39467,
          43427,
          8315,
          51139,
          63593,
          9110,
          36374,
          49232,
          8281,
          34454,
          9764,
          28450,
          9724,
          10626,
          14339,
          17210,
          17497,
          30699,
          8619,
          44512,
          28367,
          6334,
          25413,
          107753,
          10860,
          34507,
          44980,
          8830,
          47919,
          14086,
          15287,
          15473,
          67204,
          40301,
          5304,
          15878,
          65859,
          9563,
          36678,
          11146,
          42157,
          13414,
          46778,
          115423,
          7556,
          14249,
          13339,
          31843,
          46862,
          6680,
          30950,
          53618,
          7177,
          26520,
          47964,
          8881,
          50507,
          8940,
          6458,
          41930,
          45657,
          8363,
          20025,
          99910,
          10033,
          22369,
          23681,
          22438,
          12961,
          55964,
          44175,
          3480,
          29017,
          9889,
          45194,
          12521,
          56885,
          18457,
          6759,
          10614,
          14532,
          37307,
          12152,
          41134,
          8818,
          14640,
          35049,
          40186,
          7364,
          46214,
          14837,
          26433,
          66681,
          8424,
          43194,
          67567,
          16876,
          43221,
          60830,
          13100,
          31151,
          37510,
          6471,
          57009,
          8824,
          10894,
          32667,
          18558,
          14655,
          40095,
          50259,
          8055,
          23213,
          7266,
          15571,
          13229,
          17874,
          85541,
          9273,
          36484,
          11400,
          33054,
          9199,
          32220,
          9233,
          38640,
          12614,
          61460,
          4833,
          19128,
          17176,
          21405,
          17098,
          21702,
          12585,
          69906,
          12633,
          13441,
          15151,
          29225,
          41187,
          6165,
          15621,
          117604,
          13916,
          35309,
          41434,
          6437,
          39859,
          73201,
          8778,
          71370,
          5851,
          58630,
          5121,
          58364,
          6094,
          38088,
          12233,
          18683,
          15980,
          37015,
          15057,
          33826,
          10315,
          31610,
          11134,
          15311,
          15500,
          15805,
          13383,
          7887,
          16374,
          17928,
          38793,
          21462,
          53886,
          8965,
          6835,
          65914,
          45165,
          6338,
          51762,
          8787,
          4788,
          34930,
          47909,
          7783,
          46955,
          3715,
          49423,
          83705,
          12824,
          45843,
          432741,
          5863,
          32335,
          10640,
          21419,
          97160,
          9096,
          35406,
          12130,
          47074,
          14330,
          44134,
          16409,
          52285,
          13729,
          27574,
          41652,
          6989,
          59254,
          7735,
          48839,
          63626,
          11013,
          36514,
          12017,
          46120,
          68712,
          13697,
          51562,
          62407,
          11080,
          35796,
          47897,
          9147,
          36095,
          45678,
          8789,
          42949,
          18496,
          5242,
          19316,
          17660,
          43857,
          43815,
          7035,
          36269,
          13954,
          55505,
          58205,
          10050,
          18578,
          149579,
          5702,
          14847,
          37983,
          15096,
          40529,
          13703,
          15395,
          12855,
          39076,
          10845,
          29390,
          8739,
          26953,
          41069,
          5303,
          39377,
          52047,
          7942,
          39365,
          13540,
          5251,
          14003,
          45987,
          4512,
          60736,
          8938,
          6420,
          16360,
          107656,
          14914,
          21739,
          100437,
          12484,
          21225,
          110651,
          14019,
          53608,
          5001,
          42887,
          52448,
          8369,
          52445,
          90931,
          14746,
          48667,
          3126,
          3801,
          7932,
          12296,
          6091,
          11054,
          4659,
          15600,
          17064,
          53251,
          9013,
          6575,
          51375,
          60375,
          10209,
          33822,
          53741,
          7751,
          68106,
          5494,
          50981,
          6796,
          40794,
          13594,
          11320,
          8381,
          35109,
          41244,
          6714,
          14103,
          16324,
          53079,
          10258,
          11492,
          12427,
          38349,
          39516,
          7961,
          37926,
          38500,
          6668,
          13773,
          39195,
          13372,
          10992,
          7858,
          36846,
          27835,
          5189,
          39273,
          48951,
          7580,
          44279,
          13750,
          17781,
          19005,
          28165,
          6593,
          55858,
          4523,
          12106,
          13815,
          31475,
          11152,
          37135,
          12241,
          37003,
          47423,
          7746,
          48564,
          52340,
          8286,
          36772,
          12363,
          56573,
          5016,
          28413,
          42597,
          8406,
          43032,
          14492,
          39397,
          12378,
          34272,
          130549,
          9731,
          23890,
          118431,
          12623,
          71367,
          8809,
          6202,
          17415,
          15963,
          11993,
          9921,
          22943,
          20153,
          41637,
          9100,
          14147,
          13045,
          13241,
          29168,
          41609,
          7280,
          46017,
          19024,
          8040,
          36033,
          12475,
          44363,
          15056,
          29459,
          38494,
          8027,
          45052,
          15211,
          46116,
          52480,
          7440,
          42800,
          13913,
          57561,
          5223,
          41761,
          14103,
          35340,
          56242,
          8371,
          33376,
          11266,
          30925,
          42566,
          6239,
          58293,
          18181,
          6463,
          47919,
          14502,
          32318,
          11055,
          38434,
          27352,
          5009,
          60046,
          6290,
          9308535,
          6642935,
          2793751
         ]
        }
       ],
       "layout": {
        "legend": {
         "tracegroupgap": 0
        },
        "margin": {
         "t": 60
        },
        "template": {
         "data": {
          "bar": [
           {
            "error_x": {
             "color": "#2a3f5f"
            },
            "error_y": {
             "color": "#2a3f5f"
            },
            "marker": {
             "line": {
              "color": "#E5ECF6",
              "width": 0.5
             },
             "pattern": {
              "fillmode": "overlay",
              "size": 10,
              "solidity": 0.2
             }
            },
            "type": "bar"
           }
          ],
          "barpolar": [
           {
            "marker": {
             "line": {
              "color": "#E5ECF6",
              "width": 0.5
             },
             "pattern": {
              "fillmode": "overlay",
              "size": 10,
              "solidity": 0.2
             }
            },
            "type": "barpolar"
           }
          ],
          "carpet": [
           {
            "aaxis": {
             "endlinecolor": "#2a3f5f",
             "gridcolor": "white",
             "linecolor": "white",
             "minorgridcolor": "white",
             "startlinecolor": "#2a3f5f"
            },
            "baxis": {
             "endlinecolor": "#2a3f5f",
             "gridcolor": "white",
             "linecolor": "white",
             "minorgridcolor": "white",
             "startlinecolor": "#2a3f5f"
            },
            "type": "carpet"
           }
          ],
          "choropleth": [
           {
            "colorbar": {
             "outlinewidth": 0,
             "ticks": ""
            },
            "type": "choropleth"
           }
          ],
          "contour": [
           {
            "colorbar": {
             "outlinewidth": 0,
             "ticks": ""
            },
            "colorscale": [
             [
              0,
              "#0d0887"
             ],
             [
              0.1111111111111111,
              "#46039f"
             ],
             [
              0.2222222222222222,
              "#7201a8"
             ],
             [
              0.3333333333333333,
              "#9c179e"
             ],
             [
              0.4444444444444444,
              "#bd3786"
             ],
             [
              0.5555555555555556,
              "#d8576b"
             ],
             [
              0.6666666666666666,
              "#ed7953"
             ],
             [
              0.7777777777777778,
              "#fb9f3a"
             ],
             [
              0.8888888888888888,
              "#fdca26"
             ],
             [
              1,
              "#f0f921"
             ]
            ],
            "type": "contour"
           }
          ],
          "contourcarpet": [
           {
            "colorbar": {
             "outlinewidth": 0,
             "ticks": ""
            },
            "type": "contourcarpet"
           }
          ],
          "heatmap": [
           {
            "colorbar": {
             "outlinewidth": 0,
             "ticks": ""
            },
            "colorscale": [
             [
              0,
              "#0d0887"
             ],
             [
              0.1111111111111111,
              "#46039f"
             ],
             [
              0.2222222222222222,
              "#7201a8"
             ],
             [
              0.3333333333333333,
              "#9c179e"
             ],
             [
              0.4444444444444444,
              "#bd3786"
             ],
             [
              0.5555555555555556,
              "#d8576b"
             ],
             [
              0.6666666666666666,
              "#ed7953"
             ],
             [
              0.7777777777777778,
              "#fb9f3a"
             ],
             [
              0.8888888888888888,
              "#fdca26"
             ],
             [
              1,
              "#f0f921"
             ]
            ],
            "type": "heatmap"
           }
          ],
          "heatmapgl": [
           {
            "colorbar": {
             "outlinewidth": 0,
             "ticks": ""
            },
            "colorscale": [
             [
              0,
              "#0d0887"
             ],
             [
              0.1111111111111111,
              "#46039f"
             ],
             [
              0.2222222222222222,
              "#7201a8"
             ],
             [
              0.3333333333333333,
              "#9c179e"
             ],
             [
              0.4444444444444444,
              "#bd3786"
             ],
             [
              0.5555555555555556,
              "#d8576b"
             ],
             [
              0.6666666666666666,
              "#ed7953"
             ],
             [
              0.7777777777777778,
              "#fb9f3a"
             ],
             [
              0.8888888888888888,
              "#fdca26"
             ],
             [
              1,
              "#f0f921"
             ]
            ],
            "type": "heatmapgl"
           }
          ],
          "histogram": [
           {
            "marker": {
             "pattern": {
              "fillmode": "overlay",
              "size": 10,
              "solidity": 0.2
             }
            },
            "type": "histogram"
           }
          ],
          "histogram2d": [
           {
            "colorbar": {
             "outlinewidth": 0,
             "ticks": ""
            },
            "colorscale": [
             [
              0,
              "#0d0887"
             ],
             [
              0.1111111111111111,
              "#46039f"
             ],
             [
              0.2222222222222222,
              "#7201a8"
             ],
             [
              0.3333333333333333,
              "#9c179e"
             ],
             [
              0.4444444444444444,
              "#bd3786"
             ],
             [
              0.5555555555555556,
              "#d8576b"
             ],
             [
              0.6666666666666666,
              "#ed7953"
             ],
             [
              0.7777777777777778,
              "#fb9f3a"
             ],
             [
              0.8888888888888888,
              "#fdca26"
             ],
             [
              1,
              "#f0f921"
             ]
            ],
            "type": "histogram2d"
           }
          ],
          "histogram2dcontour": [
           {
            "colorbar": {
             "outlinewidth": 0,
             "ticks": ""
            },
            "colorscale": [
             [
              0,
              "#0d0887"
             ],
             [
              0.1111111111111111,
              "#46039f"
             ],
             [
              0.2222222222222222,
              "#7201a8"
             ],
             [
              0.3333333333333333,
              "#9c179e"
             ],
             [
              0.4444444444444444,
              "#bd3786"
             ],
             [
              0.5555555555555556,
              "#d8576b"
             ],
             [
              0.6666666666666666,
              "#ed7953"
             ],
             [
              0.7777777777777778,
              "#fb9f3a"
             ],
             [
              0.8888888888888888,
              "#fdca26"
             ],
             [
              1,
              "#f0f921"
             ]
            ],
            "type": "histogram2dcontour"
           }
          ],
          "mesh3d": [
           {
            "colorbar": {
             "outlinewidth": 0,
             "ticks": ""
            },
            "type": "mesh3d"
           }
          ],
          "parcoords": [
           {
            "line": {
             "colorbar": {
              "outlinewidth": 0,
              "ticks": ""
             }
            },
            "type": "parcoords"
           }
          ],
          "pie": [
           {
            "automargin": true,
            "type": "pie"
           }
          ],
          "scatter": [
           {
            "marker": {
             "colorbar": {
              "outlinewidth": 0,
              "ticks": ""
             }
            },
            "type": "scatter"
           }
          ],
          "scatter3d": [
           {
            "line": {
             "colorbar": {
              "outlinewidth": 0,
              "ticks": ""
             }
            },
            "marker": {
             "colorbar": {
              "outlinewidth": 0,
              "ticks": ""
             }
            },
            "type": "scatter3d"
           }
          ],
          "scattercarpet": [
           {
            "marker": {
             "colorbar": {
              "outlinewidth": 0,
              "ticks": ""
             }
            },
            "type": "scattercarpet"
           }
          ],
          "scattergeo": [
           {
            "marker": {
             "colorbar": {
              "outlinewidth": 0,
              "ticks": ""
             }
            },
            "type": "scattergeo"
           }
          ],
          "scattergl": [
           {
            "marker": {
             "colorbar": {
              "outlinewidth": 0,
              "ticks": ""
             }
            },
            "type": "scattergl"
           }
          ],
          "scattermapbox": [
           {
            "marker": {
             "colorbar": {
              "outlinewidth": 0,
              "ticks": ""
             }
            },
            "type": "scattermapbox"
           }
          ],
          "scatterpolar": [
           {
            "marker": {
             "colorbar": {
              "outlinewidth": 0,
              "ticks": ""
             }
            },
            "type": "scatterpolar"
           }
          ],
          "scatterpolargl": [
           {
            "marker": {
             "colorbar": {
              "outlinewidth": 0,
              "ticks": ""
             }
            },
            "type": "scatterpolargl"
           }
          ],
          "scatterternary": [
           {
            "marker": {
             "colorbar": {
              "outlinewidth": 0,
              "ticks": ""
             }
            },
            "type": "scatterternary"
           }
          ],
          "surface": [
           {
            "colorbar": {
             "outlinewidth": 0,
             "ticks": ""
            },
            "colorscale": [
             [
              0,
              "#0d0887"
             ],
             [
              0.1111111111111111,
              "#46039f"
             ],
             [
              0.2222222222222222,
              "#7201a8"
             ],
             [
              0.3333333333333333,
              "#9c179e"
             ],
             [
              0.4444444444444444,
              "#bd3786"
             ],
             [
              0.5555555555555556,
              "#d8576b"
             ],
             [
              0.6666666666666666,
              "#ed7953"
             ],
             [
              0.7777777777777778,
              "#fb9f3a"
             ],
             [
              0.8888888888888888,
              "#fdca26"
             ],
             [
              1,
              "#f0f921"
             ]
            ],
            "type": "surface"
           }
          ],
          "table": [
           {
            "cells": {
             "fill": {
              "color": "#EBF0F8"
             },
             "line": {
              "color": "white"
             }
            },
            "header": {
             "fill": {
              "color": "#C8D4E3"
             },
             "line": {
              "color": "white"
             }
            },
            "type": "table"
           }
          ]
         },
         "layout": {
          "annotationdefaults": {
           "arrowcolor": "#2a3f5f",
           "arrowhead": 0,
           "arrowwidth": 1
          },
          "autotypenumbers": "strict",
          "coloraxis": {
           "colorbar": {
            "outlinewidth": 0,
            "ticks": ""
           }
          },
          "colorscale": {
           "diverging": [
            [
             0,
             "#8e0152"
            ],
            [
             0.1,
             "#c51b7d"
            ],
            [
             0.2,
             "#de77ae"
            ],
            [
             0.3,
             "#f1b6da"
            ],
            [
             0.4,
             "#fde0ef"
            ],
            [
             0.5,
             "#f7f7f7"
            ],
            [
             0.6,
             "#e6f5d0"
            ],
            [
             0.7,
             "#b8e186"
            ],
            [
             0.8,
             "#7fbc41"
            ],
            [
             0.9,
             "#4d9221"
            ],
            [
             1,
             "#276419"
            ]
           ],
           "sequential": [
            [
             0,
             "#0d0887"
            ],
            [
             0.1111111111111111,
             "#46039f"
            ],
            [
             0.2222222222222222,
             "#7201a8"
            ],
            [
             0.3333333333333333,
             "#9c179e"
            ],
            [
             0.4444444444444444,
             "#bd3786"
            ],
            [
             0.5555555555555556,
             "#d8576b"
            ],
            [
             0.6666666666666666,
             "#ed7953"
            ],
            [
             0.7777777777777778,
             "#fb9f3a"
            ],
            [
             0.8888888888888888,
             "#fdca26"
            ],
            [
             1,
             "#f0f921"
            ]
           ],
           "sequentialminus": [
            [
             0,
             "#0d0887"
            ],
            [
             0.1111111111111111,
             "#46039f"
            ],
            [
             0.2222222222222222,
             "#7201a8"
            ],
            [
             0.3333333333333333,
             "#9c179e"
            ],
            [
             0.4444444444444444,
             "#bd3786"
            ],
            [
             0.5555555555555556,
             "#d8576b"
            ],
            [
             0.6666666666666666,
             "#ed7953"
            ],
            [
             0.7777777777777778,
             "#fb9f3a"
            ],
            [
             0.8888888888888888,
             "#fdca26"
            ],
            [
             1,
             "#f0f921"
            ]
           ]
          },
          "colorway": [
           "#636efa",
           "#EF553B",
           "#00cc96",
           "#ab63fa",
           "#FFA15A",
           "#19d3f3",
           "#FF6692",
           "#B6E880",
           "#FF97FF",
           "#FECB52"
          ],
          "font": {
           "color": "#2a3f5f"
          },
          "geo": {
           "bgcolor": "white",
           "lakecolor": "white",
           "landcolor": "#E5ECF6",
           "showlakes": true,
           "showland": true,
           "subunitcolor": "white"
          },
          "hoverlabel": {
           "align": "left"
          },
          "hovermode": "closest",
          "mapbox": {
           "style": "light"
          },
          "paper_bgcolor": "white",
          "plot_bgcolor": "#E5ECF6",
          "polar": {
           "angularaxis": {
            "gridcolor": "white",
            "linecolor": "white",
            "ticks": ""
           },
           "bgcolor": "#E5ECF6",
           "radialaxis": {
            "gridcolor": "white",
            "linecolor": "white",
            "ticks": ""
           }
          },
          "scene": {
           "xaxis": {
            "backgroundcolor": "#E5ECF6",
            "gridcolor": "white",
            "gridwidth": 2,
            "linecolor": "white",
            "showbackground": true,
            "ticks": "",
            "zerolinecolor": "white"
           },
           "yaxis": {
            "backgroundcolor": "#E5ECF6",
            "gridcolor": "white",
            "gridwidth": 2,
            "linecolor": "white",
            "showbackground": true,
            "ticks": "",
            "zerolinecolor": "white"
           },
           "zaxis": {
            "backgroundcolor": "#E5ECF6",
            "gridcolor": "white",
            "gridwidth": 2,
            "linecolor": "white",
            "showbackground": true,
            "ticks": "",
            "zerolinecolor": "white"
           }
          },
          "shapedefaults": {
           "line": {
            "color": "#2a3f5f"
           }
          },
          "ternary": {
           "aaxis": {
            "gridcolor": "white",
            "linecolor": "white",
            "ticks": ""
           },
           "baxis": {
            "gridcolor": "white",
            "linecolor": "white",
            "ticks": ""
           },
           "bgcolor": "#E5ECF6",
           "caxis": {
            "gridcolor": "white",
            "linecolor": "white",
            "ticks": ""
           }
          },
          "title": {
           "x": 0.05
          },
          "xaxis": {
           "automargin": true,
           "gridcolor": "white",
           "linecolor": "white",
           "ticks": "",
           "title": {
            "standoff": 15
           },
           "zerolinecolor": "white",
           "zerolinewidth": 2
          },
          "yaxis": {
           "automargin": true,
           "gridcolor": "white",
           "linecolor": "white",
           "ticks": "",
           "title": {
            "standoff": 15
           },
           "zerolinecolor": "white",
           "zerolinewidth": 2
          }
         }
        },
        "title": {
         "text": "K-means clusters"
        }
       }
      }
     },
     "metadata": {},
     "output_type": "display_data"
    }
   ],
   "source": [
    "vis_tmap = px.treemap(data.reset_index(), path=['K-means', Column.nama_kelurahan], values=Column.jumlah)\n",
    "vis_tmap.update_layout(title='K-means clusters')\n",
    "vis_tmap.show()"
   ]
  },
  {
   "attachments": {},
   "cell_type": "markdown",
   "metadata": {},
   "source": [
    "# **Hierarchical Clustering**"
   ]
  },
  {
   "cell_type": "code",
   "execution_count": 21,
   "metadata": {},
   "outputs": [
    {
     "name": "stdout",
     "output_type": "stream",
     "text": [
      "Execution time: 20.365188121795654 seconds\n",
      "Memory: (1270553, 2263478856)\n"
     ]
    }
   ],
   "source": [
    "from sklearn.cluster import AgglomerativeClustering\n",
    "\n",
    "# starting the memory and execution time monitoring\n",
    "tracemalloc.start()\n",
    "st = time.time()\n",
    "\n",
    "model = AgglomerativeClustering(linkage=\"ward\", \n",
    "                                distance_threshold = 7, \n",
    "                                n_clusters=None)\n",
    "\n",
    "model.fit(scaled_features)\n",
    "\n",
    "# get the end execution time\n",
    "et = time.time()\n",
    "\n",
    "# displaying the memory\n",
    "print('Execution time:', et - st, 'seconds')\n",
    "print('Memory:', tracemalloc.get_traced_memory())\n",
    " \n",
    "# stopping the library\n",
    "tracemalloc.stop()"
   ]
  },
  {
   "cell_type": "code",
   "execution_count": 22,
   "metadata": {},
   "outputs": [
    {
     "data": {
      "image/png": "[encoded data removed]",
      "text/plain": [
       "<Figure size 720x720 with 1 Axes>"
      ]
     },
     "metadata": {
      "needs_background": "light"
     },
     "output_type": "display_data"
    }
   ],
   "source": [
    "from scipy.cluster.hierarchy import dendrogram\n",
    "def plot_dendrogram(model, **kwargs):\n",
    "    \n",
    "    counts = np.zeros(model.children_.shape[0])\n",
    "    n_samples = len(model.labels_)\n",
    "    for i, merge in enumerate(model.children_):\n",
    "        current_count = 0\n",
    "        for child_idx in merge:\n",
    "            if child_idx < n_samples:\n",
    "                current_count +=1\n",
    "            else:\n",
    "                current_count += counts[child_idx-n_samples]\n",
    "        counts[i] = current_count\n",
    "        \n",
    "    linkage_matrix = np.column_stack([model.children_, model.distances_,\n",
    "                                     counts]).astype(float)\n",
    "    \n",
    "    dendrogram(linkage_matrix, **kwargs)\n",
    "fig, ax = plt.subplots(figsize = (10,10))\n",
    "ax.set_title(\"Hierarchical clustering dendrogram\")\n",
    "#plot the top three levels of the dendrogram\n",
    "plot_dendrogram(model, truncate_mode='level', p=3)\n",
    "plt.axhline(y = 7, color = \"r\", linestyle = \"--\")\n",
    "plt.axhline(y = 6, color = \"r\", linestyle = \"--\")\n",
    "plt.axhline(y = 9, color = \"r\", linestyle = \"--\")\n",
    "ax.set_xlabel(\"Number of points in node\")\n",
    "plt.show()"
   ]
  },
  {
   "attachments": {},
   "cell_type": "markdown",
   "metadata": {},
   "source": [
    "# **Evaluation**"
   ]
  },
  {
   "cell_type": "code",
   "execution_count": 23,
   "metadata": {},
   "outputs": [],
   "source": [
    "from sklearn.cluster import AgglomerativeClustering\n",
    "from sklearn.datasets import make_moons\n",
    "from sklearn.metrics import silhouette_score, adjusted_rand_score"
   ]
  },
  {
   "cell_type": "code",
   "execution_count": 24,
   "metadata": {},
   "outputs": [
    {
     "data": {
      "text/plain": [
       "AgglomerativeClustering(n_clusters=3)"
      ]
     },
     "execution_count": 24,
     "metadata": {},
     "output_type": "execute_result"
    }
   ],
   "source": [
    "# Instantiate k-means and dbscan algorithms\n",
    "kmeans = KMeans(n_clusters=3)\n",
    "hierarchical = AgglomerativeClustering(linkage=\"ward\", n_clusters=3)\n",
    "\n",
    "# Fit the algorithms to the features\n",
    "kmeans.fit(scaled_features)\n",
    "hierarchical.fit(scaled_features)"
   ]
  },
  {
   "cell_type": "code",
   "execution_count": 25,
   "metadata": {},
   "outputs": [],
   "source": [
    "# Compute the silhouette scores for each algorithm\n",
    "kmeans_silhouette = silhouette_score(\n",
    "    scaled_features, kmeans.labels_\n",
    ").round(2)\n",
    "hierarchical_silhouette = silhouette_score(\n",
    "   scaled_features, hierarchical.labels_\n",
    ").round (2)"
   ]
  },
  {
   "cell_type": "code",
   "execution_count": 26,
   "metadata": {},
   "outputs": [
    {
     "name": "stdout",
     "output_type": "stream",
     "text": [
      "0.89\n",
      "0.88\n"
     ]
    }
   ],
   "source": [
    "print(kmeans_silhouette)\n",
    "print(hierarchical_silhouette)"
   ]
  }
 ],
 "metadata": {
  "kernelspec": {
   "display_name": "base",
   "language": "python",
   "name": "python3"
  },
  "language_info": {
   "codemirror_mode": {
    "name": "ipython",
    "version": 3
   },
   "file_extension": ".py",
   "mimetype": "text/x-python",
   "name": "python",
   "nbconvert_exporter": "python",
   "pygments_lexer": "ipython3",
   "version": "3.9.12"
  },
  "orig_nbformat": 4,
  "vscode": {
   "interpreter": {
    "hash": "d3357ce7bbd53d1a6727deba21aa516555430552f36bcf560e19185cf9391bd1"
   }
  }
 },
 "nbformat": 4,
 "nbformat_minor": 2
}
